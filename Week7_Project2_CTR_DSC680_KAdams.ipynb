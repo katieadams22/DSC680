{
 "cells": [
  {
   "cell_type": "markdown",
   "id": "4d600cca",
   "metadata": {},
   "source": [
    "# Click Through Rate (CTR) Model Building Project"
   ]
  },
  {
   "cell_type": "markdown",
   "id": "c864afad",
   "metadata": {},
   "source": [
    "#### In this Term Project, the CTR dataset will be analyzed to find out which features are most important or most predictive of  click through rate (CTR) of email campaigns. The dataset can be downloaded from here: (https://www.kaggle.com/datasets/gauravduttakiit/jobathon-august-2022). \"CTR is calculated by dividing the number of clicks by the number of impressions and expressing the result as a percentage. According to recent benchmarks, the average CTR in Google AdWords across all industries is 3.17% on the search network and 0.45% on the display network.\" (Dhunakaran, 2022)."
   ]
  },
  {
   "cell_type": "markdown",
   "id": "925450bc",
   "metadata": {},
   "source": [
    "### Table of Contents\n",
    "$\\bullet$ Exploratory Data Analysis\\\n",
    "$\\bullet$ Prepare the Data for Modeling\\\n",
    "$\\bullet$ Train and Evaluate the Model"
   ]
  },
  {
   "cell_type": "markdown",
   "id": "335d7973",
   "metadata": {},
   "source": [
    "## Libraries and Data Loading"
   ]
  },
  {
   "cell_type": "code",
   "execution_count": 792,
   "id": "6f3186dc",
   "metadata": {},
   "outputs": [],
   "source": [
    "# Import libraries\n",
    "import pandas as pd\n",
    "import numpy as np\n",
    "import matplotlib.pyplot as plt\n",
    "%matplotlib inline\n",
    "import seaborn as sns\n",
    "import sklearn\n",
    "from sklearn.model_selection import train_test_split \n",
    "from sklearn.metrics import plot_confusion_matrix\n",
    "import sklearn.metrics as metrics\n",
    "from sklearn.linear_model import LinearRegression\n",
    "from sklearn.feature_selection import SelectKBest\n",
    "from sklearn.feature_selection import chi2, f_classif\n",
    "from sklearn.preprocessing import LabelEncoder\n",
    "from sklearn.linear_model import LinearRegression, Lasso, Ridge\n",
    "from sklearn.neighbors import KNeighborsRegressor\n",
    "from sklearn.tree import DecisionTreeRegressor\n",
    "from xgboost import XGBRegressor\n",
    "from sklearn import linear_model,metrics\n",
    "from sklearn.metrics import mean_squared_error, r2_score, mean_absolute_error\n",
    "import xgboost as xgb\n",
    "from sklearn.model_selection import cross_val_score, KFold\n",
    "from sklearn.preprocessing import LabelEncoder"
   ]
  },
  {
   "cell_type": "code",
   "execution_count": 793,
   "id": "a8196b15",
   "metadata": {},
   "outputs": [],
   "source": [
    "import warnings\n",
    "warnings.filterwarnings(\"ignore\")"
   ]
  },
  {
   "cell_type": "markdown",
   "id": "9ac483bf",
   "metadata": {},
   "source": [
    "## Exploratory Data Analysis (EDA)"
   ]
  },
  {
   "cell_type": "code",
   "execution_count": 794,
   "id": "7f1a6219",
   "metadata": {},
   "outputs": [],
   "source": [
    "# loading train and test datasets\n",
    "#train=pd.read_csv('train_CTR.csv',index_col='campaign_id')\n",
    "#test=pd.read_csv('test_CTR.csv',index_col='campaign_id')\n",
    "train=pd.read_csv('train_CTR.csv')\n",
    "test=pd.read_csv('test_CTR.csv')"
   ]
  },
  {
   "cell_type": "code",
   "execution_count": 795,
   "id": "68f089ab",
   "metadata": {},
   "outputs": [
    {
     "name": "stdout",
     "output_type": "stream",
     "text": [
      "Number of rows and columns in train dataset (1888, 22) \n",
      "\n",
      "Number of rows and columns in test dataset (762, 21)\n"
     ]
    }
   ],
   "source": [
    "# check the shapes of the datasets\n",
    "print('Number of rows and columns in train dataset',train.shape, '\\n')\n",
    "print('Number of rows and columns in test dataset',test.shape)"
   ]
  },
  {
   "cell_type": "code",
   "execution_count": 796,
   "id": "8f7e9647",
   "metadata": {},
   "outputs": [
    {
     "data": {
      "text/html": [
       "<div>\n",
       "<style scoped>\n",
       "    .dataframe tbody tr th:only-of-type {\n",
       "        vertical-align: middle;\n",
       "    }\n",
       "\n",
       "    .dataframe tbody tr th {\n",
       "        vertical-align: top;\n",
       "    }\n",
       "\n",
       "    .dataframe thead th {\n",
       "        text-align: right;\n",
       "    }\n",
       "</style>\n",
       "<table border=\"1\" class=\"dataframe\">\n",
       "  <thead>\n",
       "    <tr style=\"text-align: right;\">\n",
       "      <th></th>\n",
       "      <th>campaign_id</th>\n",
       "      <th>sender</th>\n",
       "      <th>subject_len</th>\n",
       "      <th>body_len</th>\n",
       "      <th>mean_paragraph_len</th>\n",
       "      <th>day_of_week</th>\n",
       "      <th>is_weekend</th>\n",
       "      <th>times_of_day</th>\n",
       "      <th>category</th>\n",
       "      <th>product</th>\n",
       "      <th>...</th>\n",
       "      <th>is_image</th>\n",
       "      <th>is_personalised</th>\n",
       "      <th>is_quote</th>\n",
       "      <th>is_timer</th>\n",
       "      <th>is_emoticons</th>\n",
       "      <th>is_discount</th>\n",
       "      <th>is_price</th>\n",
       "      <th>is_urgency</th>\n",
       "      <th>target_audience</th>\n",
       "      <th>click_rate</th>\n",
       "    </tr>\n",
       "  </thead>\n",
       "  <tbody>\n",
       "    <tr>\n",
       "      <th>0</th>\n",
       "      <td>1</td>\n",
       "      <td>3</td>\n",
       "      <td>76</td>\n",
       "      <td>10439</td>\n",
       "      <td>39</td>\n",
       "      <td>5</td>\n",
       "      <td>1</td>\n",
       "      <td>Noon</td>\n",
       "      <td>6</td>\n",
       "      <td>26</td>\n",
       "      <td>...</td>\n",
       "      <td>0</td>\n",
       "      <td>0</td>\n",
       "      <td>0</td>\n",
       "      <td>0</td>\n",
       "      <td>0</td>\n",
       "      <td>0</td>\n",
       "      <td>0</td>\n",
       "      <td>0</td>\n",
       "      <td>14</td>\n",
       "      <td>0.103079</td>\n",
       "    </tr>\n",
       "    <tr>\n",
       "      <th>1</th>\n",
       "      <td>2</td>\n",
       "      <td>3</td>\n",
       "      <td>54</td>\n",
       "      <td>2570</td>\n",
       "      <td>256</td>\n",
       "      <td>5</td>\n",
       "      <td>1</td>\n",
       "      <td>Morning</td>\n",
       "      <td>2</td>\n",
       "      <td>11</td>\n",
       "      <td>...</td>\n",
       "      <td>0</td>\n",
       "      <td>0</td>\n",
       "      <td>0</td>\n",
       "      <td>0</td>\n",
       "      <td>0</td>\n",
       "      <td>0</td>\n",
       "      <td>0</td>\n",
       "      <td>0</td>\n",
       "      <td>10</td>\n",
       "      <td>0.700000</td>\n",
       "    </tr>\n",
       "    <tr>\n",
       "      <th>2</th>\n",
       "      <td>3</td>\n",
       "      <td>3</td>\n",
       "      <td>59</td>\n",
       "      <td>12801</td>\n",
       "      <td>16</td>\n",
       "      <td>5</td>\n",
       "      <td>1</td>\n",
       "      <td>Noon</td>\n",
       "      <td>2</td>\n",
       "      <td>11</td>\n",
       "      <td>...</td>\n",
       "      <td>1</td>\n",
       "      <td>0</td>\n",
       "      <td>1</td>\n",
       "      <td>0</td>\n",
       "      <td>0</td>\n",
       "      <td>0</td>\n",
       "      <td>0</td>\n",
       "      <td>0</td>\n",
       "      <td>16</td>\n",
       "      <td>0.002769</td>\n",
       "    </tr>\n",
       "    <tr>\n",
       "      <th>3</th>\n",
       "      <td>4</td>\n",
       "      <td>3</td>\n",
       "      <td>74</td>\n",
       "      <td>11037</td>\n",
       "      <td>30</td>\n",
       "      <td>4</td>\n",
       "      <td>0</td>\n",
       "      <td>Evening</td>\n",
       "      <td>15</td>\n",
       "      <td>9</td>\n",
       "      <td>...</td>\n",
       "      <td>0</td>\n",
       "      <td>0</td>\n",
       "      <td>0</td>\n",
       "      <td>0</td>\n",
       "      <td>0</td>\n",
       "      <td>0</td>\n",
       "      <td>0</td>\n",
       "      <td>0</td>\n",
       "      <td>10</td>\n",
       "      <td>0.010868</td>\n",
       "    </tr>\n",
       "    <tr>\n",
       "      <th>4</th>\n",
       "      <td>5</td>\n",
       "      <td>3</td>\n",
       "      <td>80</td>\n",
       "      <td>10011</td>\n",
       "      <td>27</td>\n",
       "      <td>5</td>\n",
       "      <td>1</td>\n",
       "      <td>Noon</td>\n",
       "      <td>6</td>\n",
       "      <td>26</td>\n",
       "      <td>...</td>\n",
       "      <td>0</td>\n",
       "      <td>0</td>\n",
       "      <td>1</td>\n",
       "      <td>0</td>\n",
       "      <td>0</td>\n",
       "      <td>0</td>\n",
       "      <td>0</td>\n",
       "      <td>0</td>\n",
       "      <td>14</td>\n",
       "      <td>0.142826</td>\n",
       "    </tr>\n",
       "  </tbody>\n",
       "</table>\n",
       "<p>5 rows × 22 columns</p>\n",
       "</div>"
      ],
      "text/plain": [
       "   campaign_id  sender  subject_len  body_len  mean_paragraph_len  \\\n",
       "0            1       3           76     10439                  39   \n",
       "1            2       3           54      2570                 256   \n",
       "2            3       3           59     12801                  16   \n",
       "3            4       3           74     11037                  30   \n",
       "4            5       3           80     10011                  27   \n",
       "\n",
       "   day_of_week  is_weekend times_of_day  category  product  ...  is_image  \\\n",
       "0            5           1         Noon         6       26  ...         0   \n",
       "1            5           1      Morning         2       11  ...         0   \n",
       "2            5           1         Noon         2       11  ...         1   \n",
       "3            4           0      Evening        15        9  ...         0   \n",
       "4            5           1         Noon         6       26  ...         0   \n",
       "\n",
       "   is_personalised  is_quote  is_timer  is_emoticons  is_discount  is_price  \\\n",
       "0                0         0         0             0            0         0   \n",
       "1                0         0         0             0            0         0   \n",
       "2                0         1         0             0            0         0   \n",
       "3                0         0         0             0            0         0   \n",
       "4                0         1         0             0            0         0   \n",
       "\n",
       "   is_urgency  target_audience  click_rate  \n",
       "0           0               14    0.103079  \n",
       "1           0               10    0.700000  \n",
       "2           0               16    0.002769  \n",
       "3           0               10    0.010868  \n",
       "4           0               14    0.142826  \n",
       "\n",
       "[5 rows x 22 columns]"
      ]
     },
     "execution_count": 796,
     "metadata": {},
     "output_type": "execute_result"
    }
   ],
   "source": [
    "# Look at first 5 samples in train dataset\n",
    "train.head()"
   ]
  },
  {
   "cell_type": "code",
   "execution_count": 797,
   "id": "1825a697",
   "metadata": {},
   "outputs": [
    {
     "data": {
      "text/html": [
       "<div>\n",
       "<style scoped>\n",
       "    .dataframe tbody tr th:only-of-type {\n",
       "        vertical-align: middle;\n",
       "    }\n",
       "\n",
       "    .dataframe tbody tr th {\n",
       "        vertical-align: top;\n",
       "    }\n",
       "\n",
       "    .dataframe thead th {\n",
       "        text-align: right;\n",
       "    }\n",
       "</style>\n",
       "<table border=\"1\" class=\"dataframe\">\n",
       "  <thead>\n",
       "    <tr style=\"text-align: right;\">\n",
       "      <th></th>\n",
       "      <th>campaign_id</th>\n",
       "      <th>sender</th>\n",
       "      <th>subject_len</th>\n",
       "      <th>body_len</th>\n",
       "      <th>mean_paragraph_len</th>\n",
       "      <th>day_of_week</th>\n",
       "      <th>is_weekend</th>\n",
       "      <th>times_of_day</th>\n",
       "      <th>category</th>\n",
       "      <th>product</th>\n",
       "      <th>...</th>\n",
       "      <th>mean_CTA_len</th>\n",
       "      <th>is_image</th>\n",
       "      <th>is_personalised</th>\n",
       "      <th>is_quote</th>\n",
       "      <th>is_timer</th>\n",
       "      <th>is_emoticons</th>\n",
       "      <th>is_discount</th>\n",
       "      <th>is_price</th>\n",
       "      <th>is_urgency</th>\n",
       "      <th>target_audience</th>\n",
       "    </tr>\n",
       "  </thead>\n",
       "  <tbody>\n",
       "    <tr>\n",
       "      <th>0</th>\n",
       "      <td>1889</td>\n",
       "      <td>3</td>\n",
       "      <td>61</td>\n",
       "      <td>12871</td>\n",
       "      <td>11</td>\n",
       "      <td>6</td>\n",
       "      <td>1</td>\n",
       "      <td>Noon</td>\n",
       "      <td>6</td>\n",
       "      <td>26</td>\n",
       "      <td>...</td>\n",
       "      <td>37</td>\n",
       "      <td>1</td>\n",
       "      <td>0</td>\n",
       "      <td>0</td>\n",
       "      <td>0</td>\n",
       "      <td>1</td>\n",
       "      <td>0</td>\n",
       "      <td>0</td>\n",
       "      <td>0</td>\n",
       "      <td>14</td>\n",
       "    </tr>\n",
       "    <tr>\n",
       "      <th>1</th>\n",
       "      <td>1890</td>\n",
       "      <td>3</td>\n",
       "      <td>54</td>\n",
       "      <td>2569</td>\n",
       "      <td>256</td>\n",
       "      <td>5</td>\n",
       "      <td>1</td>\n",
       "      <td>Morning</td>\n",
       "      <td>2</td>\n",
       "      <td>11</td>\n",
       "      <td>...</td>\n",
       "      <td>22</td>\n",
       "      <td>0</td>\n",
       "      <td>0</td>\n",
       "      <td>0</td>\n",
       "      <td>0</td>\n",
       "      <td>0</td>\n",
       "      <td>0</td>\n",
       "      <td>0</td>\n",
       "      <td>0</td>\n",
       "      <td>10</td>\n",
       "    </tr>\n",
       "    <tr>\n",
       "      <th>2</th>\n",
       "      <td>1891</td>\n",
       "      <td>3</td>\n",
       "      <td>88</td>\n",
       "      <td>1473</td>\n",
       "      <td>78</td>\n",
       "      <td>4</td>\n",
       "      <td>0</td>\n",
       "      <td>Evening</td>\n",
       "      <td>2</td>\n",
       "      <td>11</td>\n",
       "      <td>...</td>\n",
       "      <td>22</td>\n",
       "      <td>1</td>\n",
       "      <td>0</td>\n",
       "      <td>1</td>\n",
       "      <td>0</td>\n",
       "      <td>0</td>\n",
       "      <td>0</td>\n",
       "      <td>0</td>\n",
       "      <td>0</td>\n",
       "      <td>10</td>\n",
       "    </tr>\n",
       "    <tr>\n",
       "      <th>3</th>\n",
       "      <td>1892</td>\n",
       "      <td>3</td>\n",
       "      <td>88</td>\n",
       "      <td>1473</td>\n",
       "      <td>78</td>\n",
       "      <td>3</td>\n",
       "      <td>0</td>\n",
       "      <td>Evening</td>\n",
       "      <td>2</td>\n",
       "      <td>11</td>\n",
       "      <td>...</td>\n",
       "      <td>22</td>\n",
       "      <td>1</td>\n",
       "      <td>0</td>\n",
       "      <td>1</td>\n",
       "      <td>0</td>\n",
       "      <td>0</td>\n",
       "      <td>0</td>\n",
       "      <td>0</td>\n",
       "      <td>0</td>\n",
       "      <td>10</td>\n",
       "    </tr>\n",
       "    <tr>\n",
       "      <th>4</th>\n",
       "      <td>1893</td>\n",
       "      <td>3</td>\n",
       "      <td>78</td>\n",
       "      <td>9020</td>\n",
       "      <td>29</td>\n",
       "      <td>3</td>\n",
       "      <td>0</td>\n",
       "      <td>Noon</td>\n",
       "      <td>6</td>\n",
       "      <td>26</td>\n",
       "      <td>...</td>\n",
       "      <td>40</td>\n",
       "      <td>0</td>\n",
       "      <td>0</td>\n",
       "      <td>0</td>\n",
       "      <td>0</td>\n",
       "      <td>0</td>\n",
       "      <td>0</td>\n",
       "      <td>0</td>\n",
       "      <td>0</td>\n",
       "      <td>14</td>\n",
       "    </tr>\n",
       "  </tbody>\n",
       "</table>\n",
       "<p>5 rows × 21 columns</p>\n",
       "</div>"
      ],
      "text/plain": [
       "   campaign_id  sender  subject_len  body_len  mean_paragraph_len  \\\n",
       "0         1889       3           61     12871                  11   \n",
       "1         1890       3           54      2569                 256   \n",
       "2         1891       3           88      1473                  78   \n",
       "3         1892       3           88      1473                  78   \n",
       "4         1893       3           78      9020                  29   \n",
       "\n",
       "   day_of_week  is_weekend times_of_day  category  product  ...  mean_CTA_len  \\\n",
       "0            6           1         Noon         6       26  ...            37   \n",
       "1            5           1      Morning         2       11  ...            22   \n",
       "2            4           0      Evening         2       11  ...            22   \n",
       "3            3           0      Evening         2       11  ...            22   \n",
       "4            3           0         Noon         6       26  ...            40   \n",
       "\n",
       "   is_image  is_personalised  is_quote  is_timer  is_emoticons  is_discount  \\\n",
       "0         1                0         0         0             1            0   \n",
       "1         0                0         0         0             0            0   \n",
       "2         1                0         1         0             0            0   \n",
       "3         1                0         1         0             0            0   \n",
       "4         0                0         0         0             0            0   \n",
       "\n",
       "   is_price  is_urgency  target_audience  \n",
       "0         0           0               14  \n",
       "1         0           0               10  \n",
       "2         0           0               10  \n",
       "3         0           0               10  \n",
       "4         0           0               14  \n",
       "\n",
       "[5 rows x 21 columns]"
      ]
     },
     "execution_count": 797,
     "metadata": {},
     "output_type": "execute_result"
    }
   ],
   "source": [
    "# Look at first 5 samples in train dataset\n",
    "test.head()"
   ]
  },
  {
   "cell_type": "code",
   "execution_count": 798,
   "id": "97d0b5ff",
   "metadata": {},
   "outputs": [
    {
     "name": "stdout",
     "output_type": "stream",
     "text": [
      "<class 'pandas.core.frame.DataFrame'>\n",
      "RangeIndex: 1888 entries, 0 to 1887\n",
      "Data columns (total 22 columns):\n",
      " #   Column              Non-Null Count  Dtype  \n",
      "---  ------              --------------  -----  \n",
      " 0   campaign_id         1888 non-null   int64  \n",
      " 1   sender              1888 non-null   int64  \n",
      " 2   subject_len         1888 non-null   int64  \n",
      " 3   body_len            1888 non-null   int64  \n",
      " 4   mean_paragraph_len  1888 non-null   int64  \n",
      " 5   day_of_week         1888 non-null   int64  \n",
      " 6   is_weekend          1888 non-null   int64  \n",
      " 7   times_of_day        1888 non-null   object \n",
      " 8   category            1888 non-null   int64  \n",
      " 9   product             1888 non-null   int64  \n",
      " 10  no_of_CTA           1888 non-null   int64  \n",
      " 11  mean_CTA_len        1888 non-null   int64  \n",
      " 12  is_image            1888 non-null   int64  \n",
      " 13  is_personalised     1888 non-null   int64  \n",
      " 14  is_quote            1888 non-null   int64  \n",
      " 15  is_timer            1888 non-null   int64  \n",
      " 16  is_emoticons        1888 non-null   int64  \n",
      " 17  is_discount         1888 non-null   int64  \n",
      " 18  is_price            1888 non-null   int64  \n",
      " 19  is_urgency          1888 non-null   int64  \n",
      " 20  target_audience     1888 non-null   int64  \n",
      " 21  click_rate          1888 non-null   float64\n",
      "dtypes: float64(1), int64(20), object(1)\n",
      "memory usage: 324.6+ KB\n"
     ]
    }
   ],
   "source": [
    "# Info of the train set\n",
    "train.info()"
   ]
  },
  {
   "cell_type": "code",
   "execution_count": 799,
   "id": "f0b774f2",
   "metadata": {},
   "outputs": [
    {
     "name": "stdout",
     "output_type": "stream",
     "text": [
      "<class 'pandas.core.frame.DataFrame'>\n",
      "RangeIndex: 762 entries, 0 to 761\n",
      "Data columns (total 21 columns):\n",
      " #   Column              Non-Null Count  Dtype \n",
      "---  ------              --------------  ----- \n",
      " 0   campaign_id         762 non-null    int64 \n",
      " 1   sender              762 non-null    int64 \n",
      " 2   subject_len         762 non-null    int64 \n",
      " 3   body_len            762 non-null    int64 \n",
      " 4   mean_paragraph_len  762 non-null    int64 \n",
      " 5   day_of_week         762 non-null    int64 \n",
      " 6   is_weekend          762 non-null    int64 \n",
      " 7   times_of_day        762 non-null    object\n",
      " 8   category            762 non-null    int64 \n",
      " 9   product             762 non-null    int64 \n",
      " 10  no_of_CTA           762 non-null    int64 \n",
      " 11  mean_CTA_len        762 non-null    int64 \n",
      " 12  is_image            762 non-null    int64 \n",
      " 13  is_personalised     762 non-null    int64 \n",
      " 14  is_quote            762 non-null    int64 \n",
      " 15  is_timer            762 non-null    int64 \n",
      " 16  is_emoticons        762 non-null    int64 \n",
      " 17  is_discount         762 non-null    int64 \n",
      " 18  is_price            762 non-null    int64 \n",
      " 19  is_urgency          762 non-null    int64 \n",
      " 20  target_audience     762 non-null    int64 \n",
      "dtypes: int64(20), object(1)\n",
      "memory usage: 125.1+ KB\n"
     ]
    }
   ],
   "source": [
    "# Info of the test set\n",
    "test.info()"
   ]
  },
  {
   "cell_type": "markdown",
   "id": "8bb6f907",
   "metadata": {},
   "source": [
    "### Observations\n",
    "$\\bullet$ The train dataset has $1888$ rows and $21$ columns \\\n",
    "$\\bullet$ The test dataset has $762$ rows and $20$ columns \\\n",
    "$\\bullet$ All the features will be useful in this analysis. Any categorical features will have dummy variables assigned to them for modeling \\\n",
    "$\\bullet$ There is a mix of numerical and categorical data, where the majority are integers \\\n",
    "$\\bullet$ The target of the model will be 'click_rate'"
   ]
  },
  {
   "cell_type": "markdown",
   "id": "02c8fc07",
   "metadata": {},
   "source": [
    "### Data Cleaning and Preparation for Visualization and Model"
   ]
  },
  {
   "cell_type": "code",
   "execution_count": 800,
   "id": "1454554a",
   "metadata": {},
   "outputs": [
    {
     "data": {
      "text/plain": [
       "campaign_id           0\n",
       "sender                0\n",
       "subject_len           0\n",
       "body_len              0\n",
       "mean_paragraph_len    0\n",
       "day_of_week           0\n",
       "is_weekend            0\n",
       "times_of_day          0\n",
       "category              0\n",
       "product               0\n",
       "no_of_CTA             0\n",
       "mean_CTA_len          0\n",
       "is_image              0\n",
       "is_personalised       0\n",
       "is_quote              0\n",
       "is_timer              0\n",
       "is_emoticons          0\n",
       "is_discount           0\n",
       "is_price              0\n",
       "is_urgency            0\n",
       "target_audience       0\n",
       "click_rate            0\n",
       "dtype: int64"
      ]
     },
     "execution_count": 800,
     "metadata": {},
     "output_type": "execute_result"
    }
   ],
   "source": [
    "# check for null values\n",
    "train.isnull().sum()"
   ]
  },
  {
   "cell_type": "code",
   "execution_count": 801,
   "id": "630c037f",
   "metadata": {},
   "outputs": [
    {
     "data": {
      "text/plain": [
       "campaign_id           0\n",
       "sender                0\n",
       "subject_len           0\n",
       "body_len              0\n",
       "mean_paragraph_len    0\n",
       "day_of_week           0\n",
       "is_weekend            0\n",
       "times_of_day          0\n",
       "category              0\n",
       "product               0\n",
       "no_of_CTA             0\n",
       "mean_CTA_len          0\n",
       "is_image              0\n",
       "is_personalised       0\n",
       "is_quote              0\n",
       "is_timer              0\n",
       "is_emoticons          0\n",
       "is_discount           0\n",
       "is_price              0\n",
       "is_urgency            0\n",
       "target_audience       0\n",
       "dtype: int64"
      ]
     },
     "execution_count": 801,
     "metadata": {},
     "output_type": "execute_result"
    }
   ],
   "source": [
    "# check for null values\n",
    "test.isnull().sum()"
   ]
  },
  {
   "cell_type": "code",
   "execution_count": 802,
   "id": "91bee5b8",
   "metadata": {},
   "outputs": [
    {
     "data": {
      "text/plain": [
       "campaign_id           1888\n",
       "sender                  12\n",
       "subject_len            170\n",
       "body_len              1568\n",
       "mean_paragraph_len     121\n",
       "day_of_week              7\n",
       "is_weekend               2\n",
       "times_of_day             3\n",
       "category                16\n",
       "product                 43\n",
       "no_of_CTA               40\n",
       "mean_CTA_len            79\n",
       "is_image                 6\n",
       "is_personalised          2\n",
       "is_quote                 7\n",
       "is_timer                 1\n",
       "is_emoticons             6\n",
       "is_discount              2\n",
       "is_price                 8\n",
       "is_urgency               2\n",
       "target_audience         17\n",
       "click_rate            1810\n",
       "dtype: int64"
      ]
     },
     "execution_count": 802,
     "metadata": {},
     "output_type": "execute_result"
    }
   ],
   "source": [
    "train.nunique()"
   ]
  },
  {
   "cell_type": "code",
   "execution_count": 803,
   "id": "cc7c5e07",
   "metadata": {},
   "outputs": [
    {
     "data": {
      "text/plain": [
       "campaign_id           762\n",
       "sender                 12\n",
       "subject_len           129\n",
       "body_len              697\n",
       "mean_paragraph_len     83\n",
       "day_of_week             7\n",
       "is_weekend              2\n",
       "times_of_day            3\n",
       "category               16\n",
       "product                39\n",
       "no_of_CTA              25\n",
       "mean_CTA_len           59\n",
       "is_image                5\n",
       "is_personalised         2\n",
       "is_quote                6\n",
       "is_timer                1\n",
       "is_emoticons            7\n",
       "is_discount             2\n",
       "is_price                4\n",
       "is_urgency              2\n",
       "target_audience        16\n",
       "dtype: int64"
      ]
     },
     "execution_count": 803,
     "metadata": {},
     "output_type": "execute_result"
    }
   ],
   "source": [
    "test.nunique()"
   ]
  },
  {
   "cell_type": "code",
   "execution_count": 805,
   "id": "64ec9ad4",
   "metadata": {},
   "outputs": [],
   "source": [
    "# encode the categorical times_of_day feature into corresponding numerical values for the model\n",
    "label_encoder = LabelEncoder()\n",
    "train['times_of_day'] = label_encoder.fit_transform(train['times_of_day'])\n",
    "test['times_of_day'] = label_encoder.fit_transform(test['times_of_day'])"
   ]
  },
  {
   "cell_type": "code",
   "execution_count": 806,
   "id": "642644f5",
   "metadata": {},
   "outputs": [
    {
     "data": {
      "text/html": [
       "<div>\n",
       "<style scoped>\n",
       "    .dataframe tbody tr th:only-of-type {\n",
       "        vertical-align: middle;\n",
       "    }\n",
       "\n",
       "    .dataframe tbody tr th {\n",
       "        vertical-align: top;\n",
       "    }\n",
       "\n",
       "    .dataframe thead th {\n",
       "        text-align: right;\n",
       "    }\n",
       "</style>\n",
       "<table border=\"1\" class=\"dataframe\">\n",
       "  <thead>\n",
       "    <tr style=\"text-align: right;\">\n",
       "      <th></th>\n",
       "      <th>campaign_id</th>\n",
       "      <th>sender</th>\n",
       "      <th>subject_len</th>\n",
       "      <th>body_len</th>\n",
       "      <th>mean_paragraph_len</th>\n",
       "      <th>day_of_week</th>\n",
       "      <th>is_weekend</th>\n",
       "      <th>times_of_day</th>\n",
       "      <th>category</th>\n",
       "      <th>product</th>\n",
       "      <th>...</th>\n",
       "      <th>is_image</th>\n",
       "      <th>is_personalised</th>\n",
       "      <th>is_quote</th>\n",
       "      <th>is_timer</th>\n",
       "      <th>is_emoticons</th>\n",
       "      <th>is_discount</th>\n",
       "      <th>is_price</th>\n",
       "      <th>is_urgency</th>\n",
       "      <th>target_audience</th>\n",
       "      <th>click_rate</th>\n",
       "    </tr>\n",
       "  </thead>\n",
       "  <tbody>\n",
       "    <tr>\n",
       "      <th>0</th>\n",
       "      <td>1</td>\n",
       "      <td>3</td>\n",
       "      <td>76</td>\n",
       "      <td>10439</td>\n",
       "      <td>39</td>\n",
       "      <td>5</td>\n",
       "      <td>1</td>\n",
       "      <td>2</td>\n",
       "      <td>6</td>\n",
       "      <td>26</td>\n",
       "      <td>...</td>\n",
       "      <td>0</td>\n",
       "      <td>0</td>\n",
       "      <td>0</td>\n",
       "      <td>0</td>\n",
       "      <td>0</td>\n",
       "      <td>0</td>\n",
       "      <td>0</td>\n",
       "      <td>0</td>\n",
       "      <td>14</td>\n",
       "      <td>0.103079</td>\n",
       "    </tr>\n",
       "    <tr>\n",
       "      <th>1</th>\n",
       "      <td>2</td>\n",
       "      <td>3</td>\n",
       "      <td>54</td>\n",
       "      <td>2570</td>\n",
       "      <td>256</td>\n",
       "      <td>5</td>\n",
       "      <td>1</td>\n",
       "      <td>1</td>\n",
       "      <td>2</td>\n",
       "      <td>11</td>\n",
       "      <td>...</td>\n",
       "      <td>0</td>\n",
       "      <td>0</td>\n",
       "      <td>0</td>\n",
       "      <td>0</td>\n",
       "      <td>0</td>\n",
       "      <td>0</td>\n",
       "      <td>0</td>\n",
       "      <td>0</td>\n",
       "      <td>10</td>\n",
       "      <td>0.700000</td>\n",
       "    </tr>\n",
       "    <tr>\n",
       "      <th>2</th>\n",
       "      <td>3</td>\n",
       "      <td>3</td>\n",
       "      <td>59</td>\n",
       "      <td>12801</td>\n",
       "      <td>16</td>\n",
       "      <td>5</td>\n",
       "      <td>1</td>\n",
       "      <td>2</td>\n",
       "      <td>2</td>\n",
       "      <td>11</td>\n",
       "      <td>...</td>\n",
       "      <td>1</td>\n",
       "      <td>0</td>\n",
       "      <td>1</td>\n",
       "      <td>0</td>\n",
       "      <td>0</td>\n",
       "      <td>0</td>\n",
       "      <td>0</td>\n",
       "      <td>0</td>\n",
       "      <td>16</td>\n",
       "      <td>0.002769</td>\n",
       "    </tr>\n",
       "    <tr>\n",
       "      <th>3</th>\n",
       "      <td>4</td>\n",
       "      <td>3</td>\n",
       "      <td>74</td>\n",
       "      <td>11037</td>\n",
       "      <td>30</td>\n",
       "      <td>4</td>\n",
       "      <td>0</td>\n",
       "      <td>0</td>\n",
       "      <td>15</td>\n",
       "      <td>9</td>\n",
       "      <td>...</td>\n",
       "      <td>0</td>\n",
       "      <td>0</td>\n",
       "      <td>0</td>\n",
       "      <td>0</td>\n",
       "      <td>0</td>\n",
       "      <td>0</td>\n",
       "      <td>0</td>\n",
       "      <td>0</td>\n",
       "      <td>10</td>\n",
       "      <td>0.010868</td>\n",
       "    </tr>\n",
       "    <tr>\n",
       "      <th>4</th>\n",
       "      <td>5</td>\n",
       "      <td>3</td>\n",
       "      <td>80</td>\n",
       "      <td>10011</td>\n",
       "      <td>27</td>\n",
       "      <td>5</td>\n",
       "      <td>1</td>\n",
       "      <td>2</td>\n",
       "      <td>6</td>\n",
       "      <td>26</td>\n",
       "      <td>...</td>\n",
       "      <td>0</td>\n",
       "      <td>0</td>\n",
       "      <td>1</td>\n",
       "      <td>0</td>\n",
       "      <td>0</td>\n",
       "      <td>0</td>\n",
       "      <td>0</td>\n",
       "      <td>0</td>\n",
       "      <td>14</td>\n",
       "      <td>0.142826</td>\n",
       "    </tr>\n",
       "    <tr>\n",
       "      <th>5</th>\n",
       "      <td>6</td>\n",
       "      <td>3</td>\n",
       "      <td>54</td>\n",
       "      <td>2569</td>\n",
       "      <td>256</td>\n",
       "      <td>4</td>\n",
       "      <td>0</td>\n",
       "      <td>0</td>\n",
       "      <td>2</td>\n",
       "      <td>11</td>\n",
       "      <td>...</td>\n",
       "      <td>0</td>\n",
       "      <td>0</td>\n",
       "      <td>0</td>\n",
       "      <td>0</td>\n",
       "      <td>0</td>\n",
       "      <td>0</td>\n",
       "      <td>0</td>\n",
       "      <td>0</td>\n",
       "      <td>10</td>\n",
       "      <td>0.500000</td>\n",
       "    </tr>\n",
       "  </tbody>\n",
       "</table>\n",
       "<p>6 rows × 22 columns</p>\n",
       "</div>"
      ],
      "text/plain": [
       "   campaign_id  sender  subject_len  body_len  mean_paragraph_len  \\\n",
       "0            1       3           76     10439                  39   \n",
       "1            2       3           54      2570                 256   \n",
       "2            3       3           59     12801                  16   \n",
       "3            4       3           74     11037                  30   \n",
       "4            5       3           80     10011                  27   \n",
       "5            6       3           54      2569                 256   \n",
       "\n",
       "   day_of_week  is_weekend  times_of_day  category  product  ...  is_image  \\\n",
       "0            5           1             2         6       26  ...         0   \n",
       "1            5           1             1         2       11  ...         0   \n",
       "2            5           1             2         2       11  ...         1   \n",
       "3            4           0             0        15        9  ...         0   \n",
       "4            5           1             2         6       26  ...         0   \n",
       "5            4           0             0         2       11  ...         0   \n",
       "\n",
       "   is_personalised  is_quote  is_timer  is_emoticons  is_discount  is_price  \\\n",
       "0                0         0         0             0            0         0   \n",
       "1                0         0         0             0            0         0   \n",
       "2                0         1         0             0            0         0   \n",
       "3                0         0         0             0            0         0   \n",
       "4                0         1         0             0            0         0   \n",
       "5                0         0         0             0            0         0   \n",
       "\n",
       "   is_urgency  target_audience  click_rate  \n",
       "0           0               14    0.103079  \n",
       "1           0               10    0.700000  \n",
       "2           0               16    0.002769  \n",
       "3           0               10    0.010868  \n",
       "4           0               14    0.142826  \n",
       "5           0               10    0.500000  \n",
       "\n",
       "[6 rows x 22 columns]"
      ]
     },
     "execution_count": 806,
     "metadata": {},
     "output_type": "execute_result"
    }
   ],
   "source": [
    "train.head(6)"
   ]
  },
  {
   "cell_type": "code",
   "execution_count": 808,
   "id": "9890b777",
   "metadata": {},
   "outputs": [
    {
     "data": {
      "text/html": [
       "<div>\n",
       "<style scoped>\n",
       "    .dataframe tbody tr th:only-of-type {\n",
       "        vertical-align: middle;\n",
       "    }\n",
       "\n",
       "    .dataframe tbody tr th {\n",
       "        vertical-align: top;\n",
       "    }\n",
       "\n",
       "    .dataframe thead th {\n",
       "        text-align: right;\n",
       "    }\n",
       "</style>\n",
       "<table border=\"1\" class=\"dataframe\">\n",
       "  <thead>\n",
       "    <tr style=\"text-align: right;\">\n",
       "      <th></th>\n",
       "      <th>campaign_id</th>\n",
       "      <th>sender</th>\n",
       "      <th>subject_len</th>\n",
       "      <th>body_len</th>\n",
       "      <th>mean_paragraph_len</th>\n",
       "      <th>day_of_week</th>\n",
       "      <th>is_weekend</th>\n",
       "      <th>times_of_day</th>\n",
       "      <th>category</th>\n",
       "      <th>product</th>\n",
       "      <th>...</th>\n",
       "      <th>mean_CTA_len</th>\n",
       "      <th>is_image</th>\n",
       "      <th>is_personalised</th>\n",
       "      <th>is_quote</th>\n",
       "      <th>is_timer</th>\n",
       "      <th>is_emoticons</th>\n",
       "      <th>is_discount</th>\n",
       "      <th>is_price</th>\n",
       "      <th>is_urgency</th>\n",
       "      <th>target_audience</th>\n",
       "    </tr>\n",
       "  </thead>\n",
       "  <tbody>\n",
       "    <tr>\n",
       "      <th>0</th>\n",
       "      <td>1889</td>\n",
       "      <td>3</td>\n",
       "      <td>61</td>\n",
       "      <td>12871</td>\n",
       "      <td>11</td>\n",
       "      <td>6</td>\n",
       "      <td>1</td>\n",
       "      <td>2</td>\n",
       "      <td>6</td>\n",
       "      <td>26</td>\n",
       "      <td>...</td>\n",
       "      <td>37</td>\n",
       "      <td>1</td>\n",
       "      <td>0</td>\n",
       "      <td>0</td>\n",
       "      <td>0</td>\n",
       "      <td>1</td>\n",
       "      <td>0</td>\n",
       "      <td>0</td>\n",
       "      <td>0</td>\n",
       "      <td>14</td>\n",
       "    </tr>\n",
       "    <tr>\n",
       "      <th>1</th>\n",
       "      <td>1890</td>\n",
       "      <td>3</td>\n",
       "      <td>54</td>\n",
       "      <td>2569</td>\n",
       "      <td>256</td>\n",
       "      <td>5</td>\n",
       "      <td>1</td>\n",
       "      <td>1</td>\n",
       "      <td>2</td>\n",
       "      <td>11</td>\n",
       "      <td>...</td>\n",
       "      <td>22</td>\n",
       "      <td>0</td>\n",
       "      <td>0</td>\n",
       "      <td>0</td>\n",
       "      <td>0</td>\n",
       "      <td>0</td>\n",
       "      <td>0</td>\n",
       "      <td>0</td>\n",
       "      <td>0</td>\n",
       "      <td>10</td>\n",
       "    </tr>\n",
       "    <tr>\n",
       "      <th>2</th>\n",
       "      <td>1891</td>\n",
       "      <td>3</td>\n",
       "      <td>88</td>\n",
       "      <td>1473</td>\n",
       "      <td>78</td>\n",
       "      <td>4</td>\n",
       "      <td>0</td>\n",
       "      <td>0</td>\n",
       "      <td>2</td>\n",
       "      <td>11</td>\n",
       "      <td>...</td>\n",
       "      <td>22</td>\n",
       "      <td>1</td>\n",
       "      <td>0</td>\n",
       "      <td>1</td>\n",
       "      <td>0</td>\n",
       "      <td>0</td>\n",
       "      <td>0</td>\n",
       "      <td>0</td>\n",
       "      <td>0</td>\n",
       "      <td>10</td>\n",
       "    </tr>\n",
       "    <tr>\n",
       "      <th>3</th>\n",
       "      <td>1892</td>\n",
       "      <td>3</td>\n",
       "      <td>88</td>\n",
       "      <td>1473</td>\n",
       "      <td>78</td>\n",
       "      <td>3</td>\n",
       "      <td>0</td>\n",
       "      <td>0</td>\n",
       "      <td>2</td>\n",
       "      <td>11</td>\n",
       "      <td>...</td>\n",
       "      <td>22</td>\n",
       "      <td>1</td>\n",
       "      <td>0</td>\n",
       "      <td>1</td>\n",
       "      <td>0</td>\n",
       "      <td>0</td>\n",
       "      <td>0</td>\n",
       "      <td>0</td>\n",
       "      <td>0</td>\n",
       "      <td>10</td>\n",
       "    </tr>\n",
       "    <tr>\n",
       "      <th>4</th>\n",
       "      <td>1893</td>\n",
       "      <td>3</td>\n",
       "      <td>78</td>\n",
       "      <td>9020</td>\n",
       "      <td>29</td>\n",
       "      <td>3</td>\n",
       "      <td>0</td>\n",
       "      <td>2</td>\n",
       "      <td>6</td>\n",
       "      <td>26</td>\n",
       "      <td>...</td>\n",
       "      <td>40</td>\n",
       "      <td>0</td>\n",
       "      <td>0</td>\n",
       "      <td>0</td>\n",
       "      <td>0</td>\n",
       "      <td>0</td>\n",
       "      <td>0</td>\n",
       "      <td>0</td>\n",
       "      <td>0</td>\n",
       "      <td>14</td>\n",
       "    </tr>\n",
       "  </tbody>\n",
       "</table>\n",
       "<p>5 rows × 21 columns</p>\n",
       "</div>"
      ],
      "text/plain": [
       "   campaign_id  sender  subject_len  body_len  mean_paragraph_len  \\\n",
       "0         1889       3           61     12871                  11   \n",
       "1         1890       3           54      2569                 256   \n",
       "2         1891       3           88      1473                  78   \n",
       "3         1892       3           88      1473                  78   \n",
       "4         1893       3           78      9020                  29   \n",
       "\n",
       "   day_of_week  is_weekend  times_of_day  category  product  ...  \\\n",
       "0            6           1             2         6       26  ...   \n",
       "1            5           1             1         2       11  ...   \n",
       "2            4           0             0         2       11  ...   \n",
       "3            3           0             0         2       11  ...   \n",
       "4            3           0             2         6       26  ...   \n",
       "\n",
       "   mean_CTA_len  is_image  is_personalised  is_quote  is_timer  is_emoticons  \\\n",
       "0            37         1                0         0         0             1   \n",
       "1            22         0                0         0         0             0   \n",
       "2            22         1                0         1         0             0   \n",
       "3            22         1                0         1         0             0   \n",
       "4            40         0                0         0         0             0   \n",
       "\n",
       "   is_discount  is_price  is_urgency  target_audience  \n",
       "0            0         0           0               14  \n",
       "1            0         0           0               10  \n",
       "2            0         0           0               10  \n",
       "3            0         0           0               10  \n",
       "4            0         0           0               14  \n",
       "\n",
       "[5 rows x 21 columns]"
      ]
     },
     "execution_count": 808,
     "metadata": {},
     "output_type": "execute_result"
    }
   ],
   "source": [
    "test.head()"
   ]
  },
  {
   "cell_type": "markdown",
   "id": "ba7ba6e1",
   "metadata": {},
   "source": [
    "### Observations\n",
    "$\\bullet$ There are no missing data to deal with as there are no null values\\\n",
    "$\\bullet$ The number of unique values in the datasets are found in the features body_len and click_rate\n",
    "$\\bullet$ times_of_day converted into numerical values from categorical (0 = Evening, 1 = Morning, 2 = Noon)"
   ]
  },
  {
   "cell_type": "markdown",
   "id": "553a4b05",
   "metadata": {},
   "source": [
    "### Target Variable Investigation"
   ]
  },
  {
   "cell_type": "code",
   "execution_count": 809,
   "id": "ce678b9a",
   "metadata": {},
   "outputs": [
    {
     "data": {
      "text/plain": [
       "count    1888.000000\n",
       "mean        0.041888\n",
       "std         0.084223\n",
       "min         0.000000\n",
       "25%         0.005413\n",
       "50%         0.010686\n",
       "75%         0.035589\n",
       "max         0.897959\n",
       "Name: click_rate, dtype: float64"
      ]
     },
     "execution_count": 809,
     "metadata": {},
     "output_type": "execute_result"
    }
   ],
   "source": [
    "train['click_rate'].describe()"
   ]
  },
  {
   "cell_type": "code",
   "execution_count": 810,
   "id": "5c330a65",
   "metadata": {},
   "outputs": [
    {
     "data": {
      "text/plain": [
       "<AxesSubplot:ylabel='Density'>"
      ]
     },
     "execution_count": 810,
     "metadata": {},
     "output_type": "execute_result"
    },
    {
     "data": {
      "image/png": "[encoded data removed]",
      "text/plain": [
       "<Figure size 432x288 with 1 Axes>"
      ]
     },
     "metadata": {
      "needs_background": "light"
     },
     "output_type": "display_data"
    }
   ],
   "source": [
    "# View a visualization of the target variable\n",
    "train.click_rate.plot.density(color='blue')"
   ]
  },
  {
   "cell_type": "markdown",
   "id": "2c243229",
   "metadata": {},
   "source": [
    "### Observations\n",
    "$\\bullet$ The max click-through rate in the train dataset is 89%\\\n",
    "$\\bullet$ The train dataset click-through rate is slightly skewed to the right (positive skew)"
   ]
  },
  {
   "cell_type": "markdown",
   "id": "81400a1e",
   "metadata": {},
   "source": [
    "## Single Feature Exploration"
   ]
  },
  {
   "cell_type": "code",
   "execution_count": 636,
   "id": "4a5adaee",
   "metadata": {},
   "outputs": [
    {
     "data": {
      "text/plain": [
       "<AxesSubplot:xlabel='mean_paragraph_len', ylabel='count'>"
      ]
     },
     "execution_count": 636,
     "metadata": {},
     "output_type": "execute_result"
    },
    {
     "data": {
      "image/png": "[encoded data removed]",
      "text/plain": [
       "<Figure size 1584x432 with 3 Axes>"
      ]
     },
     "metadata": {
      "needs_background": "light"
     },
     "output_type": "display_data"
    }
   ],
   "source": [
    "## Features related to number of characters: subject_len, body_len, mean_paragraph_len\n",
    "\n",
    "plt.figure(figsize=(22,6))\n",
    "\n",
    "# No. of Call To Actions in an email\n",
    "plt.subplot(1,3,1)\n",
    "sns.countplot('subject_len',data=train)\n",
    "\n",
    "# Average no. of characters in a CTA\n",
    "plt.subplot(1,3,2)\n",
    "sns.countplot('body_len',data=train)\n",
    "\n",
    "# Cluster label of the target audience\n",
    "plt.subplot(1,3,3)\n",
    "sns.countplot('mean_paragraph_len',data=train)"
   ]
  },
  {
   "cell_type": "markdown",
   "id": "45e18e79",
   "metadata": {},
   "source": [
    "### Observations\n",
    "$\\bullet$ The majority of emails have 50-100 characters in a subject \\\n",
    "$\\bullet$ The number of characters in the email body were equally distributed from 400-40,000\\\n",
    "$\\bullet$ The majority of emails have a mean character count of 10-50"
   ]
  },
  {
   "cell_type": "code",
   "execution_count": 637,
   "id": "43e2453c",
   "metadata": {},
   "outputs": [
    {
     "data": {
      "text/plain": [
       "<AxesSubplot:xlabel='product', ylabel='count'>"
      ]
     },
     "execution_count": 637,
     "metadata": {},
     "output_type": "execute_result"
    },
    {
     "data": {
      "image/png": "[encoded data removed]",
      "text/plain": [
       "<Figure size 1584x432 with 2 Axes>"
      ]
     },
     "metadata": {
      "needs_background": "light"
     },
     "output_type": "display_data"
    }
   ],
   "source": [
    "## Features related to product: product category and product type\n",
    "\n",
    "plt.figure(figsize=(22,6))\n",
    "\n",
    "# No. of Call To Actions in an email\n",
    "plt.subplot(1,3,1)\n",
    "sns.countplot('category',data=train)\n",
    "\n",
    "# Average no. of characters in a CTA\n",
    "plt.subplot(1,3,2)\n",
    "sns.countplot('product',data=train)"
   ]
  },
  {
   "cell_type": "markdown",
   "id": "46dd4671",
   "metadata": {},
   "source": [
    "### Observations\n",
    "$\\bullet$ The majority of email campaigns were related to product category 15 \\\n",
    "$\\bullet$ The majority of email campaigns are related to product type 9, 5, and 34"
   ]
  },
  {
   "cell_type": "code",
   "execution_count": 638,
   "id": "ebb27543",
   "metadata": {},
   "outputs": [
    {
     "data": {
      "text/plain": [
       "<AxesSubplot:xlabel='target_audience', ylabel='count'>"
      ]
     },
     "execution_count": 638,
     "metadata": {},
     "output_type": "execute_result"
    },
    {
     "data": {
      "image/png": "[encoded data removed]",
      "text/plain": [
       "<Figure size 1584x432 with 3 Axes>"
      ]
     },
     "metadata": {
      "needs_background": "light"
     },
     "output_type": "display_data"
    }
   ],
   "source": [
    "## Features related to Call to Action (CTA) and Audience\n",
    "\n",
    "plt.figure(figsize=(22,6))\n",
    "\n",
    "# No. of Call To Actions in an email\n",
    "plt.subplot(1,3,1)\n",
    "sns.countplot('no_of_CTA',data=train)\n",
    "\n",
    "# Average no. of characters in a CTA\n",
    "plt.subplot(1,3,2)\n",
    "sns.countplot('mean_CTA_len',data=train)\n",
    "\n",
    "# Cluster label of the target audience\n",
    "plt.subplot(1,3,3)\n",
    "sns.countplot('target_audience',data=train)"
   ]
  },
  {
   "cell_type": "markdown",
   "id": "36bea4b7",
   "metadata": {},
   "source": [
    "### Observations\n",
    "$\\bullet$ The majority of email campaigns had between 0 and 5 Call to Actions (asked the end user to do something) \\\n",
    "$\\bullet$ The majority of email campaigns had an average mean character length between 40-50 \\\n",
    "$\\bullet$ The majority of email campaigns had a target audience of cluster number 12"
   ]
  },
  {
   "cell_type": "code",
   "execution_count": 639,
   "id": "ade689dd",
   "metadata": {},
   "outputs": [
    {
     "data": {
      "text/plain": [
       "<AxesSubplot:xlabel='is_weekend', ylabel='count'>"
      ]
     },
     "execution_count": 639,
     "metadata": {},
     "output_type": "execute_result"
    },
    {
     "data": {
      "image/png": "[encoded data removed]",
      "text/plain": [
       "<Figure size 1584x432 with 3 Axes>"
      ]
     },
     "metadata": {
      "needs_background": "light"
     },
     "output_type": "display_data"
    }
   ],
   "source": [
    "## Features related to time: campaigns related to day of week, time of day, and weekend/weekdays\n",
    "\n",
    "# Binary Features\n",
    "plt.figure(figsize=(22,6))\n",
    "\n",
    "# Day of week\n",
    "plt.subplot(1,3,1)\n",
    "sns.countplot('day_of_week',data=train)\n",
    "\n",
    "# Times of day\n",
    "plt.subplot(1,3,2)\n",
    "sns.countplot('times_of_day',data=train)\n",
    "\n",
    "# Weekend or not\n",
    "plt.subplot(1,3,3)\n",
    "sns.countplot('is_weekend',data=train)"
   ]
  },
  {
   "cell_type": "markdown",
   "id": "b1376613",
   "metadata": {},
   "source": [
    "### Observations\n",
    "$\\bullet$ Assuming that 0-6 equals Sunday-Saturday, most of the email campaigns were set on Tuesday-Thursday\\\n",
    "$\\bullet$ Most of the email campaigns where sent in the evening when people were off work\\\n",
    "$\\bullet$ Assuming 0 is not a weekend day and 1 is a weekend day, most of the email campaigns were sent during weekdays"
   ]
  },
  {
   "cell_type": "code",
   "execution_count": 640,
   "id": "4ac8eaba",
   "metadata": {},
   "outputs": [
    {
     "data": {
      "text/plain": [
       "<AxesSubplot:xlabel='is_emoticons', ylabel='count'>"
      ]
     },
     "execution_count": 640,
     "metadata": {},
     "output_type": "execute_result"
    },
    {
     "data": {
      "image/png": "[encoded data removed]",
      "text/plain": [
       "<Figure size 1584x432 with 3 Axes>"
      ]
     },
     "metadata": {
      "needs_background": "light"
     },
     "output_type": "display_data"
    }
   ],
   "source": [
    "## Features related to the contents of the email: number of images, number of quotes and number of emoticons\n",
    "\n",
    "plt.figure(figsize=(22,6))\n",
    "\n",
    "# No.of Images in an email\n",
    "plt.subplot(1,3,1)\n",
    "sns.countplot('is_image',data=train)\n",
    "\n",
    "# No.of quotes in an email\n",
    "plt.subplot(1,3,2)\n",
    "sns.countplot('is_quote',data=train)\n",
    "\n",
    "# No. of emoticons in an email\n",
    "plt.subplot(1,3,3)\n",
    "sns.countplot('is_emoticons',data=train)"
   ]
  },
  {
   "cell_type": "markdown",
   "id": "ddd73827",
   "metadata": {},
   "source": [
    "### Observations\n",
    "$\\bullet$ Most of the email campaigns contained no images, or 1-2 images\\\n",
    "$\\bullet$ Most of the email campaigns had no quotes, or between 1-3\\\n",
    "$\\bullet$ The majority of the email campaigns contained no emoticons"
   ]
  },
  {
   "cell_type": "code",
   "execution_count": 641,
   "id": "f79f8be1",
   "metadata": {},
   "outputs": [
    {
     "data": {
      "text/plain": [
       "<AxesSubplot:xlabel='is_urgency', ylabel='count'>"
      ]
     },
     "execution_count": 641,
     "metadata": {},
     "output_type": "execute_result"
    },
    {
     "data": {
      "image/png": "[encoded data removed]",
      "text/plain": [
       "<Figure size 1584x432 with 3 Axes>"
      ]
     },
     "metadata": {
      "needs_background": "light"
     },
     "output_type": "display_data"
    }
   ],
   "source": [
    "## Features with boolean (0 or 1) values\n",
    "\n",
    "plt.figure(figsize=(22,6))\n",
    "\n",
    "# Personalized emails or not\n",
    "plt.subplot(1,3,1)\n",
    "sns.countplot('is_personalised',data=train)\n",
    "\n",
    "# Discount email or not\n",
    "plt.subplot(1,3,2)\n",
    "sns.countplot('is_discount',data=train)\n",
    "\n",
    "# Urgent email or not\n",
    "plt.subplot(1,3,3)\n",
    "sns.countplot('is_urgency',data=train)"
   ]
  },
  {
   "cell_type": "markdown",
   "id": "6afcdca7",
   "metadata": {},
   "source": [
    "### Observations\n",
    "$\\bullet$ The majority of email campaigns were personalized to the user \\\n",
    "$\\bullet$ The majority of email campaigns did not contain a discount \\\n",
    "$\\bullet$ The majority of email campaigns were not urgent"
   ]
  },
  {
   "cell_type": "code",
   "execution_count": 642,
   "id": "7bbd6ea1",
   "metadata": {},
   "outputs": [
    {
     "data": {
      "text/plain": [
       "<AxesSubplot:xlabel='is_timer', ylabel='count'>"
      ]
     },
     "execution_count": 642,
     "metadata": {},
     "output_type": "execute_result"
    },
    {
     "data": {
      "image/png": "[encoded data removed]",
      "text/plain": [
       "<Figure size 432x288 with 1 Axes>"
      ]
     },
     "metadata": {
      "needs_background": "light"
     },
     "output_type": "display_data"
    }
   ],
   "source": [
    "# Email timer or not\n",
    "plt.subplot(1,1,1)\n",
    "sns.countplot('is_timer',data=train)"
   ]
  },
  {
   "cell_type": "markdown",
   "id": "ef45eab4",
   "metadata": {},
   "source": [
    "### Observations\n",
    "$\\bullet$ Assuming 0 means that the email contains a timer, then all of the campaigns contained this"
   ]
  },
  {
   "cell_type": "markdown",
   "id": "572a6f8d",
   "metadata": {},
   "source": [
    "## Multiple Feature Exploration"
   ]
  },
  {
   "cell_type": "code",
   "execution_count": 643,
   "id": "d9ad64a6",
   "metadata": {},
   "outputs": [
    {
     "data": {
      "text/plain": [
       "<AxesSubplot:xlabel='product', ylabel='click_rate'>"
      ]
     },
     "execution_count": 643,
     "metadata": {},
     "output_type": "execute_result"
    },
    {
     "data": {
      "image/png": "[encoded data removed]",
      "text/plain": [
       "<Figure size 720x576 with 1 Axes>"
      ]
     },
     "metadata": {
      "needs_background": "light"
     },
     "output_type": "display_data"
    }
   ],
   "source": [
    "# Click rate vs Product Type the email is related to\n",
    "\n",
    "plt.figure(figsize=(10,8))\n",
    "sns.barplot(x='product',y='click_rate',data=train,palette='bright')"
   ]
  },
  {
   "cell_type": "markdown",
   "id": "be37d9d5",
   "metadata": {},
   "source": [
    "### Observations\n",
    "$\\bullet$ Email campaigns related to products 3, 22, 27, 36 and 40 have the highest click-through rate (27 has the highest)"
   ]
  },
  {
   "cell_type": "code",
   "execution_count": 644,
   "id": "97b77fcc",
   "metadata": {},
   "outputs": [
    {
     "data": {
      "text/plain": [
       "<seaborn.axisgrid.FacetGrid at 0x26056929d90>"
      ]
     },
     "execution_count": 644,
     "metadata": {},
     "output_type": "execute_result"
    },
    {
     "data": {
      "text/plain": [
       "<Figure size 1440x576 with 0 Axes>"
      ]
     },
     "metadata": {},
     "output_type": "display_data"
    },
    {
     "data": {
      "image/png": "[encoded data removed]",
      "text/plain": [
       "<Figure size 360x360 with 1 Axes>"
      ]
     },
     "metadata": {
      "needs_background": "light"
     },
     "output_type": "display_data"
    }
   ],
   "source": [
    "# click rate vs email urgency\n",
    "plt.figure(figsize=(20,8))\n",
    "sns.relplot(x=\"is_urgency\", y=\"click_rate\",ci=None,kind=\"line\", data=train)"
   ]
  },
  {
   "cell_type": "markdown",
   "id": "646a3dba",
   "metadata": {},
   "source": [
    "### Observations\n",
    "$\\bullet$ Assuming 0 means urgent and 1 means not urgent, then if the email campaign is marked as Urgent then the click-through rate is higher"
   ]
  },
  {
   "cell_type": "code",
   "execution_count": 645,
   "id": "37b3c16d",
   "metadata": {},
   "outputs": [
    {
     "data": {
      "text/plain": [
       "<seaborn.axisgrid.FacetGrid at 0x26056ade760>"
      ]
     },
     "execution_count": 645,
     "metadata": {},
     "output_type": "execute_result"
    },
    {
     "data": {
      "text/plain": [
       "<Figure size 1440x576 with 0 Axes>"
      ]
     },
     "metadata": {},
     "output_type": "display_data"
    },
    {
     "data": {
      "image/png": "[encoded data removed]",
      "text/plain": [
       "<Figure size 360x360 with 1 Axes>"
      ]
     },
     "metadata": {
      "needs_background": "light"
     },
     "output_type": "display_data"
    }
   ],
   "source": [
    "# click rate vs nominal price listed in email\n",
    "plt.figure(figsize=(20,8))\n",
    "sns.relplot(x=\"is_price\", y=\"click_rate\",ci=None,kind=\"line\", data=train)"
   ]
  },
  {
   "cell_type": "markdown",
   "id": "0b0de90e",
   "metadata": {},
   "source": [
    "### Observations\n",
    "$\\bullet$ If price is between 0 and 1500, then the click-through rate is higher"
   ]
  },
  {
   "cell_type": "code",
   "execution_count": 646,
   "id": "e2c21ef4",
   "metadata": {},
   "outputs": [
    {
     "data": {
      "text/plain": [
       "<seaborn.axisgrid.FacetGrid at 0x2605699e460>"
      ]
     },
     "execution_count": 646,
     "metadata": {},
     "output_type": "execute_result"
    },
    {
     "data": {
      "text/plain": [
       "<Figure size 1440x576 with 0 Axes>"
      ]
     },
     "metadata": {},
     "output_type": "display_data"
    },
    {
     "data": {
      "image/png": "[encoded data removed]",
      "text/plain": [
       "<Figure size 360x360 with 1 Axes>"
      ]
     },
     "metadata": {
      "needs_background": "light"
     },
     "output_type": "display_data"
    }
   ],
   "source": [
    "# click rate vs emails containing discounts\n",
    "plt.figure(figsize=(20,8))\n",
    "sns.relplot(x=\"is_discount\", y=\"click_rate\",ci=None,kind=\"line\", data=train)"
   ]
  },
  {
   "cell_type": "markdown",
   "id": "9f73aee5",
   "metadata": {},
   "source": [
    "### Observations\n",
    "$\\bullet$ Assuming 0 means email includes discount and 1 means does not include discount, then if the email campaigns with a discount included have a higher click-through rate"
   ]
  },
  {
   "cell_type": "code",
   "execution_count": 647,
   "id": "79b11c59",
   "metadata": {},
   "outputs": [
    {
     "data": {
      "text/plain": [
       "<seaborn.axisgrid.FacetGrid at 0x26056ac17f0>"
      ]
     },
     "execution_count": 647,
     "metadata": {},
     "output_type": "execute_result"
    },
    {
     "data": {
      "text/plain": [
       "<Figure size 1440x576 with 0 Axes>"
      ]
     },
     "metadata": {},
     "output_type": "display_data"
    },
    {
     "data": {
      "image/png": "[encoded data removed]",
      "text/plain": [
       "<Figure size 360x360 with 1 Axes>"
      ]
     },
     "metadata": {
      "needs_background": "light"
     },
     "output_type": "display_data"
    }
   ],
   "source": [
    "# click rate vs number of Call to Actions in the email\n",
    "plt.figure(figsize=(20,8))\n",
    "sns.relplot(x=\"no_of_CTA\", y=\"click_rate\",ci=None,kind=\"line\", data=train)"
   ]
  },
  {
   "cell_type": "markdown",
   "id": "7f5f809d",
   "metadata": {},
   "source": [
    "### Observations\n",
    "$\\bullet$ The click-through rate is much higher for those email campaigns between 0-5 Call to Actions (CTA). We can assume the higher the CTA the better the email campaign."
   ]
  },
  {
   "cell_type": "code",
   "execution_count": 648,
   "id": "3c8e8998",
   "metadata": {},
   "outputs": [
    {
     "data": {
      "text/plain": [
       "<seaborn.axisgrid.FacetGrid at 0x260570a5d90>"
      ]
     },
     "execution_count": 648,
     "metadata": {},
     "output_type": "execute_result"
    },
    {
     "data": {
      "text/plain": [
       "<Figure size 1440x576 with 0 Axes>"
      ]
     },
     "metadata": {},
     "output_type": "display_data"
    },
    {
     "data": {
      "image/png": "[encoded data removed]",
      "text/plain": [
       "<Figure size 360x360 with 1 Axes>"
      ]
     },
     "metadata": {
      "needs_background": "light"
     },
     "output_type": "display_data"
    }
   ],
   "source": [
    "# click rate vs product type\n",
    "plt.figure(figsize=(20,8))\n",
    "sns.relplot(x=\"product\", y=\"click_rate\",ci=None,kind=\"line\", data=train)"
   ]
  },
  {
   "cell_type": "markdown",
   "id": "d537a327",
   "metadata": {},
   "source": [
    "### Observations\n",
    "$\\bullet$ Product 27 has the highest click-through rate"
   ]
  },
  {
   "cell_type": "markdown",
   "id": "fa8a0110",
   "metadata": {},
   "source": [
    "### Spearman Correlation Matrix of Categorical and Numerical Variables"
   ]
  },
  {
   "cell_type": "code",
   "execution_count": 811,
   "id": "82f40b91",
   "metadata": {},
   "outputs": [
    {
     "data": {
      "text/plain": [
       "<AxesSubplot:>"
      ]
     },
     "execution_count": 811,
     "metadata": {},
     "output_type": "execute_result"
    },
    {
     "data": {
      "image/png": "[encoded data removed]",
      "text/plain": [
       "<Figure size 720x720 with 2 Axes>"
      ]
     },
     "metadata": {
      "needs_background": "light"
     },
     "output_type": "display_data"
    }
   ],
   "source": [
    "# constructing a heatmap to understand the correlation\n",
    "correlation = train.corr()\n",
    "plt.figure(figsize=(10,10))\n",
    "sns.heatmap(correlation, cbar=True, square=True, fmt='.1f', annot=True, annot_kws={'size':8}, cmap='Blues')"
   ]
  },
  {
   "cell_type": "markdown",
   "id": "8816931f",
   "metadata": {},
   "source": [
    "### Observations\n",
    "$\\bullet$ The features most positively correlated to the target variable 'click_rate' are: mean_paragraph_length, day_of_week, is_weekend, and product \\\n",
    "$\\bullet$ The features most negatively correlated to  the target variable 'click_rate' are: subject_len, body_len, category, and no_of_CTA"
   ]
  },
  {
   "cell_type": "markdown",
   "id": "d30d4af9",
   "metadata": {},
   "source": [
    "### Chi-Squared (X2) Features"
   ]
  },
  {
   "cell_type": "markdown",
   "id": "69e8ce3d",
   "metadata": {},
   "source": [
    "$\\bullet$ \"Let’s consider a scenario where we need to determine the relationship between the independent category feature (predictor) and dependent category feature(response). In feature selection, we aim to select the features which are highly dependent on the response.\\\n",
    "$\\bullet$ When two features are independent, the observed count is close to the expected count, thus we will have smaller Chi-Square value. So high Chi-Square value indicates that the hypothesis of independence is incorrect. \\\n",
    "$\\bullet$ In simple words, higher the Chi-Square value the feature is more dependent on the response and it can be selected for model training.\" (Gajawada, 2022)"
   ]
  },
  {
   "cell_type": "code",
   "execution_count": 812,
   "id": "f0bd6c6d",
   "metadata": {},
   "outputs": [],
   "source": [
    "#split the data into a training and test set\n",
    "#we do this before making any modifications to the data to prevent data snooping\n",
    "X_chi = train.drop(['click_rate'], axis = 1)\n",
    "#get the target\n",
    "y_chi = train['click_rate']\n",
    "#split the data into training and test sets\n",
    "#split the data into training and test sets (80% Training/20% Test)\n",
    "X_train_chi, X_test_chi, y_train_chi, y_test_chi = train_test_split(X_chi, y_chi, test_size = 0.2)\n",
    "\n",
    "#reset indices in the training and test sets to prevent pandas slicing warnings\n",
    "X_train_chi = X_train_chi.reset_index(drop = True) #drop + True drops the previous index\n",
    "X_test_chi = X_test_chi.reset_index(drop = True)\n",
    "y_train_chi = y_train_chi.reset_index(drop = True)\n",
    "y_test_chi = y_test_chi.reset_index(drop = True)"
   ]
  },
  {
   "cell_type": "code",
   "execution_count": 813,
   "id": "a8319d43",
   "metadata": {},
   "outputs": [],
   "source": [
    "# Create target and feature_names list\n",
    "features_chi = X_train_chi\n",
    "target_chi = y_train_chi"
   ]
  },
  {
   "cell_type": "code",
   "execution_count": 814,
   "id": "83c275cf",
   "metadata": {},
   "outputs": [],
   "source": [
    "# change y from object to intto support chi2\n",
    "target_chi=target_chi.astype('int')"
   ]
  },
  {
   "cell_type": "code",
   "execution_count": 815,
   "id": "1ca9ca17",
   "metadata": {},
   "outputs": [],
   "source": [
    "# Select 5 features with highest chi-squared statistics\n",
    "chi2_selector=SelectKBest(chi2, k=5)\n",
    "features_kbest = chi2_selector.fit_transform(features_chi, target_chi)"
   ]
  },
  {
   "cell_type": "code",
   "execution_count": 816,
   "id": "8e6cf129",
   "metadata": {},
   "outputs": [
    {
     "name": "stdout",
     "output_type": "stream",
     "text": [
      "Original number of features: 21\n",
      "Reduced number of features: 5\n"
     ]
    }
   ],
   "source": [
    "# Show results\n",
    "print (\"Original number of features:\", features_chi.shape[1])\n",
    "print (\"Reduced number of features:\", features_kbest.shape[1])"
   ]
  },
  {
   "cell_type": "code",
   "execution_count": 817,
   "id": "481d95f5",
   "metadata": {},
   "outputs": [
    {
     "data": {
      "text/html": [
       "<div>\n",
       "<style scoped>\n",
       "    .dataframe tbody tr th:only-of-type {\n",
       "        vertical-align: middle;\n",
       "    }\n",
       "\n",
       "    .dataframe tbody tr th {\n",
       "        vertical-align: top;\n",
       "    }\n",
       "\n",
       "    .dataframe thead th {\n",
       "        text-align: right;\n",
       "    }\n",
       "</style>\n",
       "<table border=\"1\" class=\"dataframe\">\n",
       "  <thead>\n",
       "    <tr style=\"text-align: right;\">\n",
       "      <th></th>\n",
       "      <th>is_emoticons</th>\n",
       "      <th>is_discount</th>\n",
       "      <th>is_price</th>\n",
       "      <th>is_urgency</th>\n",
       "      <th>target_audience</th>\n",
       "    </tr>\n",
       "  </thead>\n",
       "  <tbody>\n",
       "    <tr>\n",
       "      <th>0</th>\n",
       "      <td>0</td>\n",
       "      <td>0</td>\n",
       "      <td>0</td>\n",
       "      <td>0</td>\n",
       "      <td>12</td>\n",
       "    </tr>\n",
       "    <tr>\n",
       "      <th>1</th>\n",
       "      <td>0</td>\n",
       "      <td>0</td>\n",
       "      <td>0</td>\n",
       "      <td>0</td>\n",
       "      <td>12</td>\n",
       "    </tr>\n",
       "    <tr>\n",
       "      <th>2</th>\n",
       "      <td>0</td>\n",
       "      <td>0</td>\n",
       "      <td>0</td>\n",
       "      <td>0</td>\n",
       "      <td>12</td>\n",
       "    </tr>\n",
       "    <tr>\n",
       "      <th>3</th>\n",
       "      <td>0</td>\n",
       "      <td>0</td>\n",
       "      <td>0</td>\n",
       "      <td>0</td>\n",
       "      <td>12</td>\n",
       "    </tr>\n",
       "    <tr>\n",
       "      <th>4</th>\n",
       "      <td>0</td>\n",
       "      <td>0</td>\n",
       "      <td>0</td>\n",
       "      <td>0</td>\n",
       "      <td>12</td>\n",
       "    </tr>\n",
       "    <tr>\n",
       "      <th>...</th>\n",
       "      <td>...</td>\n",
       "      <td>...</td>\n",
       "      <td>...</td>\n",
       "      <td>...</td>\n",
       "      <td>...</td>\n",
       "    </tr>\n",
       "    <tr>\n",
       "      <th>1505</th>\n",
       "      <td>0</td>\n",
       "      <td>0</td>\n",
       "      <td>0</td>\n",
       "      <td>0</td>\n",
       "      <td>16</td>\n",
       "    </tr>\n",
       "    <tr>\n",
       "      <th>1506</th>\n",
       "      <td>0</td>\n",
       "      <td>0</td>\n",
       "      <td>0</td>\n",
       "      <td>0</td>\n",
       "      <td>12</td>\n",
       "    </tr>\n",
       "    <tr>\n",
       "      <th>1507</th>\n",
       "      <td>0</td>\n",
       "      <td>0</td>\n",
       "      <td>0</td>\n",
       "      <td>0</td>\n",
       "      <td>16</td>\n",
       "    </tr>\n",
       "    <tr>\n",
       "      <th>1508</th>\n",
       "      <td>0</td>\n",
       "      <td>0</td>\n",
       "      <td>0</td>\n",
       "      <td>0</td>\n",
       "      <td>12</td>\n",
       "    </tr>\n",
       "    <tr>\n",
       "      <th>1509</th>\n",
       "      <td>0</td>\n",
       "      <td>0</td>\n",
       "      <td>0</td>\n",
       "      <td>0</td>\n",
       "      <td>12</td>\n",
       "    </tr>\n",
       "  </tbody>\n",
       "</table>\n",
       "<p>1510 rows × 5 columns</p>\n",
       "</div>"
      ],
      "text/plain": [
       "      is_emoticons  is_discount  is_price  is_urgency  target_audience\n",
       "0                0            0         0           0               12\n",
       "1                0            0         0           0               12\n",
       "2                0            0         0           0               12\n",
       "3                0            0         0           0               12\n",
       "4                0            0         0           0               12\n",
       "...            ...          ...       ...         ...              ...\n",
       "1505             0            0         0           0               16\n",
       "1506             0            0         0           0               12\n",
       "1507             0            0         0           0               16\n",
       "1508             0            0         0           0               12\n",
       "1509             0            0         0           0               12\n",
       "\n",
       "[1510 rows x 5 columns]"
      ]
     },
     "execution_count": 817,
     "metadata": {},
     "output_type": "execute_result"
    }
   ],
   "source": [
    "# Get columns to keep and create new dataframe with those only\n",
    "cols = chi2_selector.get_support(indices=True)\n",
    "features_df_new = features_chi.iloc[:,cols]\n",
    "features_df_new"
   ]
  },
  {
   "cell_type": "markdown",
   "id": "db1a9395",
   "metadata": {},
   "source": [
    "### Observations\n",
    "$\\bullet$ The Chi-Squared (most dependent) features on the target (click_rate) are: is_emoticons, is_discount, is_price, is_urgent, and target_audience"
   ]
  },
  {
   "cell_type": "markdown",
   "id": "dbba1099",
   "metadata": {},
   "source": [
    "## Split Data into Features and Target"
   ]
  },
  {
   "cell_type": "code",
   "execution_count": 683,
   "id": "b266e3d4",
   "metadata": {},
   "outputs": [],
   "source": [
    "# https://www.geeksforgeeks.org/linear-regression-python-implementation/\n",
    "# Splitting the data into Features and Target\n",
    "X = train.drop(['click_rate'],axis=1)\n",
    "y = train['click_rate']"
   ]
  },
  {
   "cell_type": "code",
   "execution_count": 684,
   "id": "e5ae556a",
   "metadata": {},
   "outputs": [],
   "source": [
    "# Splitting the data into Training data and Test data(20%)\n",
    "X_train, X_test, y_train, y_test = train_test_split(X, y, test_size = 0.2, random_state = 22)"
   ]
  },
  {
   "cell_type": "code",
   "execution_count": 685,
   "id": "ccf777b0",
   "metadata": {},
   "outputs": [],
   "source": [
    "#reset indices in the training and test sets to prevent pandas slicing warnings\n",
    "X_train = X_train.reset_index(drop = True) #drop + True drops the previous index\n",
    "X_test = X_test.reset_index(drop = True)\n",
    "y_train = y_train.reset_index(drop = True)\n",
    "y_test = y_test.reset_index(drop = True)"
   ]
  },
  {
   "cell_type": "code",
   "execution_count": 686,
   "id": "5caaf747",
   "metadata": {},
   "outputs": [
    {
     "name": "stdout",
     "output_type": "stream",
     "text": [
      "(1510, 21)\n",
      "(378, 21)\n",
      "(1510,)\n",
      "(378,)\n",
      "0.000000    35\n",
      "0.083333     4\n",
      "0.076923     3\n",
      "0.166667     3\n",
      "0.008403     3\n",
      "            ..\n",
      "0.011674     1\n",
      "0.007388     1\n",
      "0.006959     1\n",
      "0.016350     1\n",
      "0.020116     1\n",
      "Name: click_rate, Length: 1445, dtype: int64\n",
      "0.000000    4\n",
      "0.500000    2\n",
      "0.010000    2\n",
      "0.005001    1\n",
      "0.002979    1\n",
      "           ..\n",
      "0.004480    1\n",
      "0.006661    1\n",
      "0.023228    1\n",
      "0.049625    1\n",
      "0.012979    1\n",
      "Name: click_rate, Length: 373, dtype: int64\n"
     ]
    }
   ],
   "source": [
    "#show the sizes of the training and test sets\n",
    "print(X_train.shape)\n",
    "print(X_test.shape)\n",
    "print(y_train.shape)\n",
    "print(y_test.shape)\n",
    "#see how many have heart disease (1) and don't have heart disease (0) in training and test sets\n",
    "print(y_train.value_counts())\n",
    "print(y_test.value_counts())"
   ]
  },
  {
   "cell_type": "markdown",
   "id": "df994e8c",
   "metadata": {},
   "source": [
    "## Model Selection"
   ]
  },
  {
   "cell_type": "code",
   "execution_count": 687,
   "id": "bded1d7c",
   "metadata": {},
   "outputs": [],
   "source": [
    "# fit the model to the training set\n",
    "model = reg.fit(X_train,y_train)\n",
    "# Predicting on the test data\n",
    "pred_test_weight = model.predict(X_test)"
   ]
  },
  {
   "cell_type": "code",
   "execution_count": 688,
   "id": "e573c0b1",
   "metadata": {},
   "outputs": [],
   "source": [
    "algos = [LinearRegression(), Lasso(), Ridge(), KNeighborsRegressor(), DecisionTreeRegressor(), XGBRegressor()]\n",
    "\n",
    "names = ['Linear Regression', 'Lasso Regression', 'Ridge Regression', 'K Neighbors Regressor', 'Decision Tree Regressor', 'XGBoost Regressor']\n",
    "\n",
    "r2_score_list = []"
   ]
  },
  {
   "cell_type": "code",
   "execution_count": 689,
   "id": "3a0864cb",
   "metadata": {},
   "outputs": [],
   "source": [
    "for name in algos:\n",
    "    model = name                           # Load the model\n",
    "    model.fit(X_train, y_train)            # Fit the model with training data\n",
    "    test_data_pred = model.predict(X_test)        # prediction on test data(i.e Y_pred)\n",
    "    r2 = metrics.r2_score(Y_test, test_data_pred)   # R2 error\n",
    "    r2_score_list.append(r2)"
   ]
  },
  {
   "cell_type": "code",
   "execution_count": 690,
   "id": "8f47528c",
   "metadata": {},
   "outputs": [],
   "source": [
    "evaluation = pd.DataFrame({'Model': names, 'r2': r2_score_list})"
   ]
  },
  {
   "cell_type": "code",
   "execution_count": 691,
   "id": "19756c32",
   "metadata": {},
   "outputs": [
    {
     "data": {
      "text/html": [
       "<div>\n",
       "<style scoped>\n",
       "    .dataframe tbody tr th:only-of-type {\n",
       "        vertical-align: middle;\n",
       "    }\n",
       "\n",
       "    .dataframe tbody tr th {\n",
       "        vertical-align: top;\n",
       "    }\n",
       "\n",
       "    .dataframe thead th {\n",
       "        text-align: right;\n",
       "    }\n",
       "</style>\n",
       "<table border=\"1\" class=\"dataframe\">\n",
       "  <thead>\n",
       "    <tr style=\"text-align: right;\">\n",
       "      <th></th>\n",
       "      <th>Model</th>\n",
       "      <th>r2</th>\n",
       "    </tr>\n",
       "  </thead>\n",
       "  <tbody>\n",
       "    <tr>\n",
       "      <th>0</th>\n",
       "      <td>Linear Regression</td>\n",
       "      <td>0.116435</td>\n",
       "    </tr>\n",
       "    <tr>\n",
       "      <th>1</th>\n",
       "      <td>Lasso Regression</td>\n",
       "      <td>0.066211</td>\n",
       "    </tr>\n",
       "    <tr>\n",
       "      <th>2</th>\n",
       "      <td>Ridge Regression</td>\n",
       "      <td>0.116605</td>\n",
       "    </tr>\n",
       "    <tr>\n",
       "      <th>3</th>\n",
       "      <td>K Neighbors Regressor</td>\n",
       "      <td>0.255813</td>\n",
       "    </tr>\n",
       "    <tr>\n",
       "      <th>4</th>\n",
       "      <td>Decision Tree Regressor</td>\n",
       "      <td>-0.299221</td>\n",
       "    </tr>\n",
       "    <tr>\n",
       "      <th>5</th>\n",
       "      <td>XGBoost Regressor</td>\n",
       "      <td>0.505293</td>\n",
       "    </tr>\n",
       "  </tbody>\n",
       "</table>\n",
       "</div>"
      ],
      "text/plain": [
       "                     Model        r2\n",
       "0        Linear Regression  0.116435\n",
       "1         Lasso Regression  0.066211\n",
       "2         Ridge Regression  0.116605\n",
       "3    K Neighbors Regressor  0.255813\n",
       "4  Decision Tree Regressor -0.299221\n",
       "5        XGBoost Regressor  0.505293"
      ]
     },
     "execution_count": 691,
     "metadata": {},
     "output_type": "execute_result"
    }
   ],
   "source": [
    "evaluation"
   ]
  },
  {
   "cell_type": "markdown",
   "id": "87eb3ce8",
   "metadata": {},
   "source": [
    "### Observations\n",
    "$\\bullet$ The model with the best R2 value (the performance metric for linear regression models) is XGBoost Regressor. This model will be used as the model of choice for this dataset."
   ]
  },
  {
   "cell_type": "markdown",
   "id": "4bec5ff2",
   "metadata": {},
   "source": [
    "## Train and Evaluate the XGBoost Regressor Model"
   ]
  },
  {
   "cell_type": "code",
   "execution_count": 692,
   "id": "fb7c9c5d",
   "metadata": {},
   "outputs": [],
   "source": [
    "# https://www.datatechnotes.com/2019/06/regression-example-with-xgbregressor-in.html\n",
    "# instantiate the xgbr model\n",
    "xgbr = xgb.XGBRegressor(verbosity=0)"
   ]
  },
  {
   "cell_type": "code",
   "execution_count": 693,
   "id": "d3c9db44",
   "metadata": {},
   "outputs": [
    {
     "data": {
      "text/plain": [
       "XGBRegressor(base_score=0.5, booster='gbtree', callbacks=None,\n",
       "             colsample_bylevel=1, colsample_bynode=1, colsample_bytree=1,\n",
       "             early_stopping_rounds=None, enable_categorical=False,\n",
       "             eval_metric=None, feature_types=None, gamma=0, gpu_id=-1,\n",
       "             grow_policy='depthwise', importance_type=None,\n",
       "             interaction_constraints='', learning_rate=0.300000012, max_bin=256,\n",
       "             max_cat_threshold=64, max_cat_to_onehot=4, max_delta_step=0,\n",
       "             max_depth=6, max_leaves=0, min_child_weight=1, missing=nan,\n",
       "             monotone_constraints='()', n_estimators=100, n_jobs=0,\n",
       "             num_parallel_tree=1, predictor='auto', random_state=0, ...)"
      ]
     },
     "execution_count": 693,
     "metadata": {},
     "output_type": "execute_result"
    }
   ],
   "source": [
    "# fit the model with the trained data\n",
    "xgbr.fit(X_train, y_train)"
   ]
  },
  {
   "cell_type": "code",
   "execution_count": 694,
   "id": "905f6c6c",
   "metadata": {},
   "outputs": [
    {
     "name": "stdout",
     "output_type": "stream",
     "text": [
      "Training score:  0.9954809000505309\n"
     ]
    }
   ],
   "source": [
    "# check the training score\n",
    "score = xgbr.score(X_train, y_train)  \n",
    "print(\"Training score: \", score)"
   ]
  },
  {
   "cell_type": "code",
   "execution_count": 695,
   "id": "37fcb66b",
   "metadata": {},
   "outputs": [
    {
     "name": "stdout",
     "output_type": "stream",
     "text": [
      "Mean cross-validation score: 0.33\n"
     ]
    }
   ],
   "source": [
    "# check the cross validation score\n",
    "scores = cross_val_score(xgbr, X_train, y_train,cv=10)\n",
    "print(\"Mean cross-validation score: %.2f\" % scores.mean())"
   ]
  },
  {
   "cell_type": "code",
   "execution_count": 696,
   "id": "96763c7f",
   "metadata": {},
   "outputs": [
    {
     "name": "stdout",
     "output_type": "stream",
     "text": [
      "K-fold CV average score: 0.43\n"
     ]
    }
   ],
   "source": [
    "# check KFold method in cross-validation\n",
    "kfold = KFold(n_splits=10, shuffle=True)\n",
    "kf_cv_scores = cross_val_score(xgbr, X_train, y_train, cv=kfold )\n",
    "print(\"K-fold CV average score: %.2f\" % kf_cv_scores.mean())"
   ]
  },
  {
   "cell_type": "code",
   "execution_count": null,
   "id": "8f201446",
   "metadata": {},
   "outputs": [],
   "source": [
    "## Findings: The model is around 34-43% accurate on average"
   ]
  },
  {
   "cell_type": "code",
   "execution_count": 697,
   "id": "388a11f5",
   "metadata": {},
   "outputs": [
    {
     "name": "stdout",
     "output_type": "stream",
     "text": [
      "MSE: 0.00\n",
      "RMSE: 0.06\n"
     ]
    }
   ],
   "source": [
    "# predict test data\n",
    "ypred = xgbr.predict(X_test)\n",
    "mse = mean_squared_error(y_test, ypred)\n",
    "print(\"MSE: %.2f\" % mse)\n",
    "MSE: 3.35\n",
    "print(\"RMSE: %.2f\" % (mse**(1/2.0)))"
   ]
  },
  {
   "cell_type": "code",
   "execution_count": 698,
   "id": "34f17f40",
   "metadata": {},
   "outputs": [
    {
     "name": "stdout",
     "output_type": "stream",
     "text": [
      "Coefficient of determination (R2): 0.56\n"
     ]
    }
   ],
   "source": [
    "# The coefficient of determination (R2 value): 1 is perfect prediction\n",
    "print(\"Coefficient of determination (R2): %.2f\" % r2_score(y_test, ypred)) "
   ]
  },
  {
   "cell_type": "code",
   "execution_count": 699,
   "id": "98e33dd0",
   "metadata": {},
   "outputs": [
    {
     "data": {
      "image/png": "[encoded data removed]",
      "text/plain": [
       "<Figure size 432x288 with 1 Axes>"
      ]
     },
     "metadata": {
      "needs_background": "light"
     },
     "output_type": "display_data"
    }
   ],
   "source": [
    "x_ax = range(len(y_test))\n",
    "plt.plot(x_ax, y_test, label=\"original\")\n",
    "plt.plot(x_ax, ypred, label=\"predicted\")\n",
    "plt.title(\"Click-Through Rate Test and Predicted Data\")\n",
    "plt.legend()\n",
    "plt.show()"
   ]
  },
  {
   "cell_type": "markdown",
   "id": "ef0580d1",
   "metadata": {},
   "source": [
    "### Observations\n",
    "$\\bullet$ \"R-squared is a measure of how well a linear regression model “fits” a dataset. Also commonly called the coefficient of determination, R-squared is the proportion of the variance in the response variable that can be explained by the predictor variable.\\\n",
    "$\\bullet$ In general, the larger the R-squared value, the more precisely the predictor variables are able to predict the value of the response variable.\\\n",
    "$\\bullet$ How high an R-squared value needs to be depends on how precise you need to be. For example, in scientific studies, the R-squared may need to be above 0.95 for a regression model to be considered reliable. In finance, an R-Squared above 0.7 would generally be seen as showing a high level of correlation, whereas a measure below 0.4 would show a low correlation..\" (Zach, 2020) \\\n",
    "$\\bullet$ The XGBoost Regressor model performed as expected with an R2 value of 0.56. This is a medium low correlation, which is acceptable for a real-life scenario.\\\n",
    "$\\bullet$ The next step is to see if the R2 value can be improved using the log of click_rate since the target is right skewed"
   ]
  },
  {
   "cell_type": "markdown",
   "id": "603a1bac",
   "metadata": {},
   "source": [
    "## Train and Evaluate the XGBoost Regressor Model with Log of Target Variable"
   ]
  },
  {
   "cell_type": "code",
   "execution_count": 703,
   "id": "dc149c9a",
   "metadata": {},
   "outputs": [],
   "source": [
    "# Create new dataframes for this new model to start fresh\n",
    "train_log=pd.read_csv('train_CTR.csv')\n",
    "test_log=pd.read_csv('test_CTR.csv')"
   ]
  },
  {
   "cell_type": "code",
   "execution_count": 704,
   "id": "69ca93ae",
   "metadata": {},
   "outputs": [],
   "source": [
    "# encode the categorical labels\n",
    "label_encoder = LabelEncoder()\n",
    "train_log['times_of_day'] = label_encoder.fit_transform(train_log['times_of_day'])"
   ]
  },
  {
   "cell_type": "code",
   "execution_count": 705,
   "id": "d78d30d2",
   "metadata": {},
   "outputs": [
    {
     "data": {
      "text/plain": [
       "<AxesSubplot:ylabel='Density'>"
      ]
     },
     "execution_count": 705,
     "metadata": {},
     "output_type": "execute_result"
    },
    {
     "data": {
      "image/png": "[encoded data removed]",
      "text/plain": [
       "<Figure size 432x288 with 1 Axes>"
      ]
     },
     "metadata": {
      "needs_background": "light"
     },
     "output_type": "display_data"
    }
   ],
   "source": [
    "# Reduce the skewness of the target variable with log\n",
    "train_log['click_rate_log']  = np.log(train_log['click_rate']+1)\n",
    "train_log.click_rate_log.plot.density(color='red')"
   ]
  },
  {
   "cell_type": "code",
   "execution_count": 706,
   "id": "aca73e64",
   "metadata": {},
   "outputs": [
    {
     "name": "stdout",
     "output_type": "stream",
     "text": [
      "4.317743085163305\n",
      "3.6811416192586184\n"
     ]
    }
   ],
   "source": [
    "# Look at the skew in both click_rate and click_rate_log\n",
    "print(train_log['click_rate'].skew())\n",
    "print(train_log['click_rate_log'].skew())"
   ]
  },
  {
   "cell_type": "code",
   "execution_count": 707,
   "id": "f971c598",
   "metadata": {},
   "outputs": [
    {
     "data": {
      "text/html": [
       "<div>\n",
       "<style scoped>\n",
       "    .dataframe tbody tr th:only-of-type {\n",
       "        vertical-align: middle;\n",
       "    }\n",
       "\n",
       "    .dataframe tbody tr th {\n",
       "        vertical-align: top;\n",
       "    }\n",
       "\n",
       "    .dataframe thead th {\n",
       "        text-align: right;\n",
       "    }\n",
       "</style>\n",
       "<table border=\"1\" class=\"dataframe\">\n",
       "  <thead>\n",
       "    <tr style=\"text-align: right;\">\n",
       "      <th></th>\n",
       "      <th>campaign_id</th>\n",
       "      <th>sender</th>\n",
       "      <th>subject_len</th>\n",
       "      <th>body_len</th>\n",
       "      <th>mean_paragraph_len</th>\n",
       "      <th>day_of_week</th>\n",
       "      <th>is_weekend</th>\n",
       "      <th>times_of_day</th>\n",
       "      <th>category</th>\n",
       "      <th>product</th>\n",
       "      <th>...</th>\n",
       "      <th>is_personalised</th>\n",
       "      <th>is_quote</th>\n",
       "      <th>is_timer</th>\n",
       "      <th>is_emoticons</th>\n",
       "      <th>is_discount</th>\n",
       "      <th>is_price</th>\n",
       "      <th>is_urgency</th>\n",
       "      <th>target_audience</th>\n",
       "      <th>click_rate</th>\n",
       "      <th>click_rate_log</th>\n",
       "    </tr>\n",
       "  </thead>\n",
       "  <tbody>\n",
       "    <tr>\n",
       "      <th>0</th>\n",
       "      <td>1</td>\n",
       "      <td>3</td>\n",
       "      <td>76</td>\n",
       "      <td>10439</td>\n",
       "      <td>39</td>\n",
       "      <td>5</td>\n",
       "      <td>1</td>\n",
       "      <td>2</td>\n",
       "      <td>6</td>\n",
       "      <td>26</td>\n",
       "      <td>...</td>\n",
       "      <td>0</td>\n",
       "      <td>0</td>\n",
       "      <td>0</td>\n",
       "      <td>0</td>\n",
       "      <td>0</td>\n",
       "      <td>0</td>\n",
       "      <td>0</td>\n",
       "      <td>14</td>\n",
       "      <td>0.103079</td>\n",
       "      <td>0.098105</td>\n",
       "    </tr>\n",
       "    <tr>\n",
       "      <th>1</th>\n",
       "      <td>2</td>\n",
       "      <td>3</td>\n",
       "      <td>54</td>\n",
       "      <td>2570</td>\n",
       "      <td>256</td>\n",
       "      <td>5</td>\n",
       "      <td>1</td>\n",
       "      <td>1</td>\n",
       "      <td>2</td>\n",
       "      <td>11</td>\n",
       "      <td>...</td>\n",
       "      <td>0</td>\n",
       "      <td>0</td>\n",
       "      <td>0</td>\n",
       "      <td>0</td>\n",
       "      <td>0</td>\n",
       "      <td>0</td>\n",
       "      <td>0</td>\n",
       "      <td>10</td>\n",
       "      <td>0.700000</td>\n",
       "      <td>0.530628</td>\n",
       "    </tr>\n",
       "    <tr>\n",
       "      <th>2</th>\n",
       "      <td>3</td>\n",
       "      <td>3</td>\n",
       "      <td>59</td>\n",
       "      <td>12801</td>\n",
       "      <td>16</td>\n",
       "      <td>5</td>\n",
       "      <td>1</td>\n",
       "      <td>2</td>\n",
       "      <td>2</td>\n",
       "      <td>11</td>\n",
       "      <td>...</td>\n",
       "      <td>0</td>\n",
       "      <td>1</td>\n",
       "      <td>0</td>\n",
       "      <td>0</td>\n",
       "      <td>0</td>\n",
       "      <td>0</td>\n",
       "      <td>0</td>\n",
       "      <td>16</td>\n",
       "      <td>0.002769</td>\n",
       "      <td>0.002765</td>\n",
       "    </tr>\n",
       "    <tr>\n",
       "      <th>3</th>\n",
       "      <td>4</td>\n",
       "      <td>3</td>\n",
       "      <td>74</td>\n",
       "      <td>11037</td>\n",
       "      <td>30</td>\n",
       "      <td>4</td>\n",
       "      <td>0</td>\n",
       "      <td>0</td>\n",
       "      <td>15</td>\n",
       "      <td>9</td>\n",
       "      <td>...</td>\n",
       "      <td>0</td>\n",
       "      <td>0</td>\n",
       "      <td>0</td>\n",
       "      <td>0</td>\n",
       "      <td>0</td>\n",
       "      <td>0</td>\n",
       "      <td>0</td>\n",
       "      <td>10</td>\n",
       "      <td>0.010868</td>\n",
       "      <td>0.010809</td>\n",
       "    </tr>\n",
       "    <tr>\n",
       "      <th>4</th>\n",
       "      <td>5</td>\n",
       "      <td>3</td>\n",
       "      <td>80</td>\n",
       "      <td>10011</td>\n",
       "      <td>27</td>\n",
       "      <td>5</td>\n",
       "      <td>1</td>\n",
       "      <td>2</td>\n",
       "      <td>6</td>\n",
       "      <td>26</td>\n",
       "      <td>...</td>\n",
       "      <td>0</td>\n",
       "      <td>1</td>\n",
       "      <td>0</td>\n",
       "      <td>0</td>\n",
       "      <td>0</td>\n",
       "      <td>0</td>\n",
       "      <td>0</td>\n",
       "      <td>14</td>\n",
       "      <td>0.142826</td>\n",
       "      <td>0.133504</td>\n",
       "    </tr>\n",
       "  </tbody>\n",
       "</table>\n",
       "<p>5 rows × 23 columns</p>\n",
       "</div>"
      ],
      "text/plain": [
       "   campaign_id  sender  subject_len  body_len  mean_paragraph_len  \\\n",
       "0            1       3           76     10439                  39   \n",
       "1            2       3           54      2570                 256   \n",
       "2            3       3           59     12801                  16   \n",
       "3            4       3           74     11037                  30   \n",
       "4            5       3           80     10011                  27   \n",
       "\n",
       "   day_of_week  is_weekend  times_of_day  category  product  ...  \\\n",
       "0            5           1             2         6       26  ...   \n",
       "1            5           1             1         2       11  ...   \n",
       "2            5           1             2         2       11  ...   \n",
       "3            4           0             0        15        9  ...   \n",
       "4            5           1             2         6       26  ...   \n",
       "\n",
       "   is_personalised  is_quote  is_timer  is_emoticons  is_discount  is_price  \\\n",
       "0                0         0         0             0            0         0   \n",
       "1                0         0         0             0            0         0   \n",
       "2                0         1         0             0            0         0   \n",
       "3                0         0         0             0            0         0   \n",
       "4                0         1         0             0            0         0   \n",
       "\n",
       "   is_urgency  target_audience  click_rate  click_rate_log  \n",
       "0           0               14    0.103079        0.098105  \n",
       "1           0               10    0.700000        0.530628  \n",
       "2           0               16    0.002769        0.002765  \n",
       "3           0               10    0.010868        0.010809  \n",
       "4           0               14    0.142826        0.133504  \n",
       "\n",
       "[5 rows x 23 columns]"
      ]
     },
     "execution_count": 707,
     "metadata": {},
     "output_type": "execute_result"
    }
   ],
   "source": [
    "train_log.head()"
   ]
  },
  {
   "cell_type": "code",
   "execution_count": 708,
   "id": "32c127ec",
   "metadata": {},
   "outputs": [],
   "source": [
    "# https://www.geeksforgeeks.org/linear-regression-python-implementation/\n",
    "# Splitting the data into Features and Target\n",
    "X_log = train_log.drop(['click_rate_log'],axis=1)\n",
    "y_log = train_log['click_rate_log']"
   ]
  },
  {
   "cell_type": "code",
   "execution_count": 709,
   "id": "16443f58",
   "metadata": {},
   "outputs": [],
   "source": [
    "# Splitting the data into Training data and Test data(20%)\n",
    "X_train_log, X_test_log, y_train_log, y_test_log = train_test_split(X_log, y_log, test_size = 0.2, random_state = 22)"
   ]
  },
  {
   "cell_type": "code",
   "execution_count": 710,
   "id": "bb45f5f6",
   "metadata": {},
   "outputs": [],
   "source": [
    "#reset indices in the training and test sets to prevent pandas slicing warnings\n",
    "X_train_log = X_train_log.reset_index(drop = True) #drop + True drops the previous index\n",
    "X_test_log = X_test_log.reset_index(drop = True)\n",
    "y_train_log = y_train_log.reset_index(drop = True)\n",
    "y_test_log = y_test_log.reset_index(drop = True)"
   ]
  },
  {
   "cell_type": "code",
   "execution_count": 711,
   "id": "957d2c45",
   "metadata": {},
   "outputs": [
    {
     "name": "stdout",
     "output_type": "stream",
     "text": [
      "(1510, 22)\n",
      "(378, 22)\n",
      "(1510,)\n",
      "(378,)\n",
      "0.000000    35\n",
      "0.080043     4\n",
      "0.074108     3\n",
      "0.154151     3\n",
      "0.008368     3\n",
      "            ..\n",
      "0.011607     1\n",
      "0.007361     1\n",
      "0.006935     1\n",
      "0.016218     1\n",
      "0.019916     1\n",
      "Name: click_rate_log, Length: 1445, dtype: int64\n",
      "0.000000    4\n",
      "0.405465    2\n",
      "0.009950    2\n",
      "0.004989    1\n",
      "0.002974    1\n",
      "           ..\n",
      "0.004470    1\n",
      "0.006639    1\n",
      "0.022962    1\n",
      "0.048433    1\n",
      "0.012895    1\n",
      "Name: click_rate_log, Length: 373, dtype: int64\n"
     ]
    }
   ],
   "source": [
    "#show the sizes of the training and test sets\n",
    "print(X_train_log.shape)\n",
    "print(X_test_log.shape)\n",
    "print(y_train_log.shape)\n",
    "print(y_test_log.shape)\n",
    "#see how many have heart disease (1) and don't have heart disease (0) in training and test sets\n",
    "print(y_train_log.value_counts())\n",
    "print(y_test_log.value_counts())"
   ]
  },
  {
   "cell_type": "code",
   "execution_count": 712,
   "id": "d2ad7bd5",
   "metadata": {},
   "outputs": [],
   "source": [
    "# instantiate the xgbr model\n",
    "xgbr_log = xgb.XGBRegressor(verbosity=0)"
   ]
  },
  {
   "cell_type": "code",
   "execution_count": 713,
   "id": "b8066531",
   "metadata": {},
   "outputs": [
    {
     "data": {
      "text/plain": [
       "XGBRegressor(base_score=0.5, booster='gbtree', callbacks=None,\n",
       "             colsample_bylevel=1, colsample_bynode=1, colsample_bytree=1,\n",
       "             early_stopping_rounds=None, enable_categorical=False,\n",
       "             eval_metric=None, feature_types=None, gamma=0, gpu_id=-1,\n",
       "             grow_policy='depthwise', importance_type=None,\n",
       "             interaction_constraints='', learning_rate=0.300000012, max_bin=256,\n",
       "             max_cat_threshold=64, max_cat_to_onehot=4, max_delta_step=0,\n",
       "             max_depth=6, max_leaves=0, min_child_weight=1, missing=nan,\n",
       "             monotone_constraints='()', n_estimators=100, n_jobs=0,\n",
       "             num_parallel_tree=1, predictor='auto', random_state=0, ...)"
      ]
     },
     "execution_count": 713,
     "metadata": {},
     "output_type": "execute_result"
    }
   ],
   "source": [
    "# fit the model with the trained data\n",
    "xgbr_log.fit(X_train_log, y_train_log)"
   ]
  },
  {
   "cell_type": "code",
   "execution_count": 714,
   "id": "394bfb18",
   "metadata": {},
   "outputs": [
    {
     "name": "stdout",
     "output_type": "stream",
     "text": [
      "Training score:  0.9999344088695763\n"
     ]
    }
   ],
   "source": [
    "# check the training score\n",
    "score_log = xgbr_log.score(X_train_log, y_train_log)  \n",
    "print(\"Training score: \", score_log)"
   ]
  },
  {
   "cell_type": "code",
   "execution_count": 715,
   "id": "57f6580b",
   "metadata": {},
   "outputs": [
    {
     "name": "stdout",
     "output_type": "stream",
     "text": [
      "Mean cross-validation score: 1.00\n"
     ]
    }
   ],
   "source": [
    "# check the cross validation score\n",
    "scores_log = cross_val_score(xgbr_log, X_train_log, y_train_log,cv=10)\n",
    "print(\"Mean cross-validation score: %.2f\" % scores_log.mean())"
   ]
  },
  {
   "cell_type": "code",
   "execution_count": 716,
   "id": "13268557",
   "metadata": {},
   "outputs": [
    {
     "name": "stdout",
     "output_type": "stream",
     "text": [
      "K-fold CV average score: 1.00\n"
     ]
    }
   ],
   "source": [
    "# check KFlold method in cross-validation\n",
    "kfold_log = KFold(n_splits=10, shuffle=True)\n",
    "kf_cv_scores_log = cross_val_score(xgbr_log, X_train_log, y_train_log, cv=kfold_log)\n",
    "print(\"K-fold CV average score: %.2f\" % kf_cv_scores_log.mean())"
   ]
  },
  {
   "cell_type": "code",
   "execution_count": 717,
   "id": "7ac15517",
   "metadata": {},
   "outputs": [
    {
     "name": "stdout",
     "output_type": "stream",
     "text": [
      "MSE: 0.00\n",
      "RMSE: 0.00\n"
     ]
    }
   ],
   "source": [
    "# predict test data\n",
    "ypred_log = xgbr_log.predict(X_test_log)\n",
    "mse_log = mean_squared_error(y_test_log, ypred_log)\n",
    "print(\"MSE: %.2f\" % mse_log) # MSE measures the amount of error in statistical models\n",
    "MSE: 3.35\n",
    "print(\"RMSE: %.2f\" % (mse_log**(1/2.0))) # RMSE measures the average difference between values predicted by a model and the actual values. It provides an estimation of how well the model is able to predict the target value (accuracy)."
   ]
  },
  {
   "cell_type": "code",
   "execution_count": 718,
   "id": "de5a92e0",
   "metadata": {},
   "outputs": [
    {
     "name": "stdout",
     "output_type": "stream",
     "text": [
      "Coefficient of determination (R2): 1.00\n"
     ]
    }
   ],
   "source": [
    "# The coefficient of determination (R2 value): 1 is perfect prediction\n",
    "print(\"Coefficient of determination (R2): %.2f\" % r2_score(y_test_log, ypred_log))"
   ]
  },
  {
   "cell_type": "code",
   "execution_count": 720,
   "id": "0c9cc2ef",
   "metadata": {},
   "outputs": [
    {
     "data": {
      "image/png": "[encoded data removed]",
      "text/plain": [
       "<Figure size 432x288 with 1 Axes>"
      ]
     },
     "metadata": {
      "needs_background": "light"
     },
     "output_type": "display_data"
    }
   ],
   "source": [
    "x_ax = range(len(y_test_log))\n",
    "plt.plot(x_ax, y_test_log, label=\"original\")\n",
    "plt.plot(x_ax, ypred_log, label=\"predicted\")\n",
    "plt.title(\"Click-Through Rate Test and Predicted Data\")\n",
    "plt.legend()\n",
    "plt.show()"
   ]
  },
  {
   "cell_type": "markdown",
   "id": "435e6e7c",
   "metadata": {},
   "source": [
    "### Observations\n",
    "$\\bullet$ The XGBoost Regressor model with the target variable transformed to its log performed very well, with an R2 of 1.00 (perfect prediction)\\\n",
    "$\\bullet$ The next step is to see if the R2 value will change using the 5 Best Features from Chi-Squared to see if the model performance would be improved"
   ]
  },
  {
   "cell_type": "markdown",
   "id": "51efaf95",
   "metadata": {},
   "source": [
    "## Train and Evaluate the XGBoost Regressor Model with Log of Target Variable and 5 Best Features from Chi-Squared"
   ]
  },
  {
   "cell_type": "markdown",
   "id": "c1cc5d8a",
   "metadata": {},
   "source": [
    "$\\bullet$ The Chi-Squared (most dependent) features on the target (click_rate) are: is_emotions, is_discount, is_price, is_urgent, and target_audience"
   ]
  },
  {
   "cell_type": "code",
   "execution_count": 723,
   "id": "f4b2cad5",
   "metadata": {},
   "outputs": [],
   "source": [
    "# Import datasets again to support Log with Chi-Squared\n",
    "train_log_chi=pd.read_csv('train_CTR.csv')\n",
    "test_log_chi=pd.read_csv('test_CTR.csv')"
   ]
  },
  {
   "cell_type": "code",
   "execution_count": 724,
   "id": "44c971b4",
   "metadata": {},
   "outputs": [
    {
     "data": {
      "text/html": [
       "<div>\n",
       "<style scoped>\n",
       "    .dataframe tbody tr th:only-of-type {\n",
       "        vertical-align: middle;\n",
       "    }\n",
       "\n",
       "    .dataframe tbody tr th {\n",
       "        vertical-align: top;\n",
       "    }\n",
       "\n",
       "    .dataframe thead th {\n",
       "        text-align: right;\n",
       "    }\n",
       "</style>\n",
       "<table border=\"1\" class=\"dataframe\">\n",
       "  <thead>\n",
       "    <tr style=\"text-align: right;\">\n",
       "      <th></th>\n",
       "      <th>campaign_id</th>\n",
       "      <th>sender</th>\n",
       "      <th>subject_len</th>\n",
       "      <th>body_len</th>\n",
       "      <th>mean_paragraph_len</th>\n",
       "      <th>day_of_week</th>\n",
       "      <th>is_weekend</th>\n",
       "      <th>times_of_day</th>\n",
       "      <th>category</th>\n",
       "      <th>product</th>\n",
       "      <th>...</th>\n",
       "      <th>is_image</th>\n",
       "      <th>is_personalised</th>\n",
       "      <th>is_quote</th>\n",
       "      <th>is_timer</th>\n",
       "      <th>is_emoticons</th>\n",
       "      <th>is_discount</th>\n",
       "      <th>is_price</th>\n",
       "      <th>is_urgency</th>\n",
       "      <th>target_audience</th>\n",
       "      <th>click_rate</th>\n",
       "    </tr>\n",
       "  </thead>\n",
       "  <tbody>\n",
       "    <tr>\n",
       "      <th>0</th>\n",
       "      <td>1</td>\n",
       "      <td>3</td>\n",
       "      <td>76</td>\n",
       "      <td>10439</td>\n",
       "      <td>39</td>\n",
       "      <td>5</td>\n",
       "      <td>1</td>\n",
       "      <td>Noon</td>\n",
       "      <td>6</td>\n",
       "      <td>26</td>\n",
       "      <td>...</td>\n",
       "      <td>0</td>\n",
       "      <td>0</td>\n",
       "      <td>0</td>\n",
       "      <td>0</td>\n",
       "      <td>0</td>\n",
       "      <td>0</td>\n",
       "      <td>0</td>\n",
       "      <td>0</td>\n",
       "      <td>14</td>\n",
       "      <td>0.103079</td>\n",
       "    </tr>\n",
       "    <tr>\n",
       "      <th>1</th>\n",
       "      <td>2</td>\n",
       "      <td>3</td>\n",
       "      <td>54</td>\n",
       "      <td>2570</td>\n",
       "      <td>256</td>\n",
       "      <td>5</td>\n",
       "      <td>1</td>\n",
       "      <td>Morning</td>\n",
       "      <td>2</td>\n",
       "      <td>11</td>\n",
       "      <td>...</td>\n",
       "      <td>0</td>\n",
       "      <td>0</td>\n",
       "      <td>0</td>\n",
       "      <td>0</td>\n",
       "      <td>0</td>\n",
       "      <td>0</td>\n",
       "      <td>0</td>\n",
       "      <td>0</td>\n",
       "      <td>10</td>\n",
       "      <td>0.700000</td>\n",
       "    </tr>\n",
       "    <tr>\n",
       "      <th>2</th>\n",
       "      <td>3</td>\n",
       "      <td>3</td>\n",
       "      <td>59</td>\n",
       "      <td>12801</td>\n",
       "      <td>16</td>\n",
       "      <td>5</td>\n",
       "      <td>1</td>\n",
       "      <td>Noon</td>\n",
       "      <td>2</td>\n",
       "      <td>11</td>\n",
       "      <td>...</td>\n",
       "      <td>1</td>\n",
       "      <td>0</td>\n",
       "      <td>1</td>\n",
       "      <td>0</td>\n",
       "      <td>0</td>\n",
       "      <td>0</td>\n",
       "      <td>0</td>\n",
       "      <td>0</td>\n",
       "      <td>16</td>\n",
       "      <td>0.002769</td>\n",
       "    </tr>\n",
       "    <tr>\n",
       "      <th>3</th>\n",
       "      <td>4</td>\n",
       "      <td>3</td>\n",
       "      <td>74</td>\n",
       "      <td>11037</td>\n",
       "      <td>30</td>\n",
       "      <td>4</td>\n",
       "      <td>0</td>\n",
       "      <td>Evening</td>\n",
       "      <td>15</td>\n",
       "      <td>9</td>\n",
       "      <td>...</td>\n",
       "      <td>0</td>\n",
       "      <td>0</td>\n",
       "      <td>0</td>\n",
       "      <td>0</td>\n",
       "      <td>0</td>\n",
       "      <td>0</td>\n",
       "      <td>0</td>\n",
       "      <td>0</td>\n",
       "      <td>10</td>\n",
       "      <td>0.010868</td>\n",
       "    </tr>\n",
       "    <tr>\n",
       "      <th>4</th>\n",
       "      <td>5</td>\n",
       "      <td>3</td>\n",
       "      <td>80</td>\n",
       "      <td>10011</td>\n",
       "      <td>27</td>\n",
       "      <td>5</td>\n",
       "      <td>1</td>\n",
       "      <td>Noon</td>\n",
       "      <td>6</td>\n",
       "      <td>26</td>\n",
       "      <td>...</td>\n",
       "      <td>0</td>\n",
       "      <td>0</td>\n",
       "      <td>1</td>\n",
       "      <td>0</td>\n",
       "      <td>0</td>\n",
       "      <td>0</td>\n",
       "      <td>0</td>\n",
       "      <td>0</td>\n",
       "      <td>14</td>\n",
       "      <td>0.142826</td>\n",
       "    </tr>\n",
       "  </tbody>\n",
       "</table>\n",
       "<p>5 rows × 22 columns</p>\n",
       "</div>"
      ],
      "text/plain": [
       "   campaign_id  sender  subject_len  body_len  mean_paragraph_len  \\\n",
       "0            1       3           76     10439                  39   \n",
       "1            2       3           54      2570                 256   \n",
       "2            3       3           59     12801                  16   \n",
       "3            4       3           74     11037                  30   \n",
       "4            5       3           80     10011                  27   \n",
       "\n",
       "   day_of_week  is_weekend times_of_day  category  product  ...  is_image  \\\n",
       "0            5           1         Noon         6       26  ...         0   \n",
       "1            5           1      Morning         2       11  ...         0   \n",
       "2            5           1         Noon         2       11  ...         1   \n",
       "3            4           0      Evening        15        9  ...         0   \n",
       "4            5           1         Noon         6       26  ...         0   \n",
       "\n",
       "   is_personalised  is_quote  is_timer  is_emoticons  is_discount  is_price  \\\n",
       "0                0         0         0             0            0         0   \n",
       "1                0         0         0             0            0         0   \n",
       "2                0         1         0             0            0         0   \n",
       "3                0         0         0             0            0         0   \n",
       "4                0         1         0             0            0         0   \n",
       "\n",
       "   is_urgency  target_audience  click_rate  \n",
       "0           0               14    0.103079  \n",
       "1           0               10    0.700000  \n",
       "2           0               16    0.002769  \n",
       "3           0               10    0.010868  \n",
       "4           0               14    0.142826  \n",
       "\n",
       "[5 rows x 22 columns]"
      ]
     },
     "execution_count": 724,
     "metadata": {},
     "output_type": "execute_result"
    }
   ],
   "source": [
    "train_log_chi.head()"
   ]
  },
  {
   "cell_type": "code",
   "execution_count": 725,
   "id": "c60e77a3",
   "metadata": {},
   "outputs": [
    {
     "data": {
      "text/plain": [
       "<AxesSubplot:ylabel='Density'>"
      ]
     },
     "execution_count": 725,
     "metadata": {},
     "output_type": "execute_result"
    },
    {
     "data": {
      "image/png": "[encoded data removed]",
      "text/plain": [
       "<Figure size 432x288 with 1 Axes>"
      ]
     },
     "metadata": {
      "needs_background": "light"
     },
     "output_type": "display_data"
    }
   ],
   "source": [
    "# Reduce the skewness of the target variable with log\n",
    "train_log_chi['click_rate_log']  = np.log(train_log_chi['click_rate']+1)\n",
    "train_log_chi.click_rate_log.plot.density(color='red')"
   ]
  },
  {
   "cell_type": "code",
   "execution_count": 726,
   "id": "85700fab",
   "metadata": {},
   "outputs": [
    {
     "name": "stdout",
     "output_type": "stream",
     "text": [
      "4.317743085163305\n",
      "3.6811416192586184\n"
     ]
    }
   ],
   "source": [
    "# Look at the skew in both click_rate and click_rate_log\n",
    "print(train_log_chi['click_rate'].skew())\n",
    "print(train_log_chi['click_rate_log'].skew())"
   ]
  },
  {
   "cell_type": "code",
   "execution_count": 727,
   "id": "63199a67",
   "metadata": {},
   "outputs": [
    {
     "data": {
      "text/html": [
       "<div>\n",
       "<style scoped>\n",
       "    .dataframe tbody tr th:only-of-type {\n",
       "        vertical-align: middle;\n",
       "    }\n",
       "\n",
       "    .dataframe tbody tr th {\n",
       "        vertical-align: top;\n",
       "    }\n",
       "\n",
       "    .dataframe thead th {\n",
       "        text-align: right;\n",
       "    }\n",
       "</style>\n",
       "<table border=\"1\" class=\"dataframe\">\n",
       "  <thead>\n",
       "    <tr style=\"text-align: right;\">\n",
       "      <th></th>\n",
       "      <th>campaign_id</th>\n",
       "      <th>sender</th>\n",
       "      <th>subject_len</th>\n",
       "      <th>body_len</th>\n",
       "      <th>mean_paragraph_len</th>\n",
       "      <th>day_of_week</th>\n",
       "      <th>is_weekend</th>\n",
       "      <th>times_of_day</th>\n",
       "      <th>category</th>\n",
       "      <th>product</th>\n",
       "      <th>...</th>\n",
       "      <th>is_personalised</th>\n",
       "      <th>is_quote</th>\n",
       "      <th>is_timer</th>\n",
       "      <th>is_emoticons</th>\n",
       "      <th>is_discount</th>\n",
       "      <th>is_price</th>\n",
       "      <th>is_urgency</th>\n",
       "      <th>target_audience</th>\n",
       "      <th>click_rate</th>\n",
       "      <th>click_rate_log</th>\n",
       "    </tr>\n",
       "  </thead>\n",
       "  <tbody>\n",
       "    <tr>\n",
       "      <th>0</th>\n",
       "      <td>1</td>\n",
       "      <td>3</td>\n",
       "      <td>76</td>\n",
       "      <td>10439</td>\n",
       "      <td>39</td>\n",
       "      <td>5</td>\n",
       "      <td>1</td>\n",
       "      <td>Noon</td>\n",
       "      <td>6</td>\n",
       "      <td>26</td>\n",
       "      <td>...</td>\n",
       "      <td>0</td>\n",
       "      <td>0</td>\n",
       "      <td>0</td>\n",
       "      <td>0</td>\n",
       "      <td>0</td>\n",
       "      <td>0</td>\n",
       "      <td>0</td>\n",
       "      <td>14</td>\n",
       "      <td>0.103079</td>\n",
       "      <td>0.098105</td>\n",
       "    </tr>\n",
       "    <tr>\n",
       "      <th>1</th>\n",
       "      <td>2</td>\n",
       "      <td>3</td>\n",
       "      <td>54</td>\n",
       "      <td>2570</td>\n",
       "      <td>256</td>\n",
       "      <td>5</td>\n",
       "      <td>1</td>\n",
       "      <td>Morning</td>\n",
       "      <td>2</td>\n",
       "      <td>11</td>\n",
       "      <td>...</td>\n",
       "      <td>0</td>\n",
       "      <td>0</td>\n",
       "      <td>0</td>\n",
       "      <td>0</td>\n",
       "      <td>0</td>\n",
       "      <td>0</td>\n",
       "      <td>0</td>\n",
       "      <td>10</td>\n",
       "      <td>0.700000</td>\n",
       "      <td>0.530628</td>\n",
       "    </tr>\n",
       "    <tr>\n",
       "      <th>2</th>\n",
       "      <td>3</td>\n",
       "      <td>3</td>\n",
       "      <td>59</td>\n",
       "      <td>12801</td>\n",
       "      <td>16</td>\n",
       "      <td>5</td>\n",
       "      <td>1</td>\n",
       "      <td>Noon</td>\n",
       "      <td>2</td>\n",
       "      <td>11</td>\n",
       "      <td>...</td>\n",
       "      <td>0</td>\n",
       "      <td>1</td>\n",
       "      <td>0</td>\n",
       "      <td>0</td>\n",
       "      <td>0</td>\n",
       "      <td>0</td>\n",
       "      <td>0</td>\n",
       "      <td>16</td>\n",
       "      <td>0.002769</td>\n",
       "      <td>0.002765</td>\n",
       "    </tr>\n",
       "    <tr>\n",
       "      <th>3</th>\n",
       "      <td>4</td>\n",
       "      <td>3</td>\n",
       "      <td>74</td>\n",
       "      <td>11037</td>\n",
       "      <td>30</td>\n",
       "      <td>4</td>\n",
       "      <td>0</td>\n",
       "      <td>Evening</td>\n",
       "      <td>15</td>\n",
       "      <td>9</td>\n",
       "      <td>...</td>\n",
       "      <td>0</td>\n",
       "      <td>0</td>\n",
       "      <td>0</td>\n",
       "      <td>0</td>\n",
       "      <td>0</td>\n",
       "      <td>0</td>\n",
       "      <td>0</td>\n",
       "      <td>10</td>\n",
       "      <td>0.010868</td>\n",
       "      <td>0.010809</td>\n",
       "    </tr>\n",
       "    <tr>\n",
       "      <th>4</th>\n",
       "      <td>5</td>\n",
       "      <td>3</td>\n",
       "      <td>80</td>\n",
       "      <td>10011</td>\n",
       "      <td>27</td>\n",
       "      <td>5</td>\n",
       "      <td>1</td>\n",
       "      <td>Noon</td>\n",
       "      <td>6</td>\n",
       "      <td>26</td>\n",
       "      <td>...</td>\n",
       "      <td>0</td>\n",
       "      <td>1</td>\n",
       "      <td>0</td>\n",
       "      <td>0</td>\n",
       "      <td>0</td>\n",
       "      <td>0</td>\n",
       "      <td>0</td>\n",
       "      <td>14</td>\n",
       "      <td>0.142826</td>\n",
       "      <td>0.133504</td>\n",
       "    </tr>\n",
       "  </tbody>\n",
       "</table>\n",
       "<p>5 rows × 23 columns</p>\n",
       "</div>"
      ],
      "text/plain": [
       "   campaign_id  sender  subject_len  body_len  mean_paragraph_len  \\\n",
       "0            1       3           76     10439                  39   \n",
       "1            2       3           54      2570                 256   \n",
       "2            3       3           59     12801                  16   \n",
       "3            4       3           74     11037                  30   \n",
       "4            5       3           80     10011                  27   \n",
       "\n",
       "   day_of_week  is_weekend times_of_day  category  product  ...  \\\n",
       "0            5           1         Noon         6       26  ...   \n",
       "1            5           1      Morning         2       11  ...   \n",
       "2            5           1         Noon         2       11  ...   \n",
       "3            4           0      Evening        15        9  ...   \n",
       "4            5           1         Noon         6       26  ...   \n",
       "\n",
       "   is_personalised  is_quote  is_timer  is_emoticons  is_discount  is_price  \\\n",
       "0                0         0         0             0            0         0   \n",
       "1                0         0         0             0            0         0   \n",
       "2                0         1         0             0            0         0   \n",
       "3                0         0         0             0            0         0   \n",
       "4                0         1         0             0            0         0   \n",
       "\n",
       "   is_urgency  target_audience  click_rate  click_rate_log  \n",
       "0           0               14    0.103079        0.098105  \n",
       "1           0               10    0.700000        0.530628  \n",
       "2           0               16    0.002769        0.002765  \n",
       "3           0               10    0.010868        0.010809  \n",
       "4           0               14    0.142826        0.133504  \n",
       "\n",
       "[5 rows x 23 columns]"
      ]
     },
     "execution_count": 727,
     "metadata": {},
     "output_type": "execute_result"
    }
   ],
   "source": [
    "train_log_chi.head()"
   ]
  },
  {
   "cell_type": "code",
   "execution_count": 739,
   "id": "ee4792d2",
   "metadata": {},
   "outputs": [],
   "source": [
    "# https://www.geeksforgeeks.org/linear-regression-python-implementation/\n",
    "# Splitting the data into Features and Traget\n",
    "#X_log_chi = train_log_chi['is_emoticons', 'is_discount', 'is_price', 'is_urgency', 'target_audience']\n",
    "X_log_chi = train_log_chi.iloc[:,-7:-2] #-6 to -2 is'is_emoticons', 'is_discount', 'is_price', 'is_urgency', 'target_audience'\n",
    "y_log_chi = train_log_chi['click_rate_log']"
   ]
  },
  {
   "cell_type": "code",
   "execution_count": 740,
   "id": "13783020",
   "metadata": {},
   "outputs": [],
   "source": [
    "# Splitting the data into Training data and Test data(20%)\n",
    "X_train_log_chi, X_test_log_chi, y_train_log_chi, y_test_log_chi = train_test_split(X_log_chi, y_log_chi, test_size = 0.2, random_state = 22)"
   ]
  },
  {
   "cell_type": "code",
   "execution_count": 741,
   "id": "bac7b132",
   "metadata": {},
   "outputs": [],
   "source": [
    "#reset indices in the training and test sets to prevent pandas slicing warnings\n",
    "X_train_log_chi = X_train_log_chi.reset_index(drop = True) #drop + True drops the previous index\n",
    "X_test_log_chi = X_test_log_chi.reset_index(drop = True)\n",
    "y_train_log_chi = y_train_log_chi.reset_index(drop = True)\n",
    "y_test_log_chi = y_test_log_chi.reset_index(drop = True)"
   ]
  },
  {
   "cell_type": "code",
   "execution_count": 742,
   "id": "a752c801",
   "metadata": {},
   "outputs": [],
   "source": [
    "# instantiate the xgbr model\n",
    "xgbr_log_chi = xgb.XGBRegressor(verbosity=0)"
   ]
  },
  {
   "cell_type": "code",
   "execution_count": 743,
   "id": "ba30de49",
   "metadata": {},
   "outputs": [
    {
     "data": {
      "text/plain": [
       "XGBRegressor(base_score=0.5, booster='gbtree', callbacks=None,\n",
       "             colsample_bylevel=1, colsample_bynode=1, colsample_bytree=1,\n",
       "             early_stopping_rounds=None, enable_categorical=False,\n",
       "             eval_metric=None, feature_types=None, gamma=0, gpu_id=-1,\n",
       "             grow_policy='depthwise', importance_type=None,\n",
       "             interaction_constraints='', learning_rate=0.300000012, max_bin=256,\n",
       "             max_cat_threshold=64, max_cat_to_onehot=4, max_delta_step=0,\n",
       "             max_depth=6, max_leaves=0, min_child_weight=1, missing=nan,\n",
       "             monotone_constraints='()', n_estimators=100, n_jobs=0,\n",
       "             num_parallel_tree=1, predictor='auto', random_state=0, ...)"
      ]
     },
     "execution_count": 743,
     "metadata": {},
     "output_type": "execute_result"
    }
   ],
   "source": [
    "# fit the model with the trained data\n",
    "xgbr_log_chi.fit(X_train_log_chi, y_train_log_chi)"
   ]
  },
  {
   "cell_type": "code",
   "execution_count": 744,
   "id": "7ae1c133",
   "metadata": {},
   "outputs": [
    {
     "name": "stdout",
     "output_type": "stream",
     "text": [
      "Training score:  0.11566764563322074\n"
     ]
    }
   ],
   "source": [
    "# check the training score\n",
    "score_log_chi = xgbr_log_chi.score(X_train_log_chi, y_train_log_chi)  \n",
    "print(\"Training score: \", score_log_chi)"
   ]
  },
  {
   "cell_type": "code",
   "execution_count": 745,
   "id": "42ba129a",
   "metadata": {},
   "outputs": [
    {
     "name": "stdout",
     "output_type": "stream",
     "text": [
      "Mean cross-validation score: 0.08\n"
     ]
    }
   ],
   "source": [
    "# check the cross validation score\n",
    "scores_log_chi = cross_val_score(xgbr_log_chi, X_train_log_chi, y_train_log_chi,cv=10)\n",
    "print(\"Mean cross-validation score: %.2f\" % scores_log_chi.mean())"
   ]
  },
  {
   "cell_type": "code",
   "execution_count": 746,
   "id": "2491de79",
   "metadata": {},
   "outputs": [
    {
     "name": "stdout",
     "output_type": "stream",
     "text": [
      "K-fold CV average score: 0.10\n"
     ]
    }
   ],
   "source": [
    "# check KFlold method in cross-validation\n",
    "kfold_log_chi = KFold(n_splits=10, shuffle=True)\n",
    "kf_cv_scores_log_chi = cross_val_score(xgbr_log_chi, X_train_log_chi, y_train_log_chi, cv=kfold_log_chi)\n",
    "print(\"K-fold CV average score: %.2f\" % kf_cv_scores_log_chi.mean())"
   ]
  },
  {
   "cell_type": "code",
   "execution_count": 747,
   "id": "32b8a1b3",
   "metadata": {},
   "outputs": [
    {
     "name": "stdout",
     "output_type": "stream",
     "text": [
      "MSE: 0.00\n",
      "RMSE: 0.07\n"
     ]
    }
   ],
   "source": [
    "# predict test data\n",
    "ypred_log_chi = xgbr_log_chi.predict(X_test_log_chi)\n",
    "mse_log_chi = mean_squared_error(y_test_log_chi, ypred_log_chi)\n",
    "print(\"MSE: %.2f\" % mse_log_chi)\n",
    "MSE: 3.35\n",
    "print(\"RMSE: %.2f\" % (mse_log_chi**(1/2.0)))"
   ]
  },
  {
   "cell_type": "code",
   "execution_count": 748,
   "id": "41fc6ce2",
   "metadata": {},
   "outputs": [
    {
     "name": "stdout",
     "output_type": "stream",
     "text": [
      "Coefficient of determination (R2): 0.07\n"
     ]
    }
   ],
   "source": [
    "# The coefficient of determination (R2 value): 1 is perfect prediction\n",
    "print(\"Coefficient of determination (R2): %.2f\" % r2_score(y_test_log_chi, ypred_log_chi))"
   ]
  },
  {
   "cell_type": "code",
   "execution_count": 749,
   "id": "66eddd95",
   "metadata": {},
   "outputs": [
    {
     "data": {
      "image/png": "[encoded data removed]",
      "text/plain": [
       "<Figure size 432x288 with 1 Axes>"
      ]
     },
     "metadata": {
      "needs_background": "light"
     },
     "output_type": "display_data"
    }
   ],
   "source": [
    "x_ax = range(len(y_test_log_chi))\n",
    "plt.plot(x_ax, y_test_log_chi, label=\"original\")\n",
    "plt.plot(x_ax, ypred_log_chi, label=\"predicted\")\n",
    "plt.title(\"Click-Through Rate Test and Predicted Data\")\n",
    "plt.legend()\n",
    "plt.show()"
   ]
  },
  {
   "cell_type": "markdown",
   "id": "3d08bef7",
   "metadata": {},
   "source": [
    "### Observations\n",
    "$\\bullet$ The XGBoost Regressor model with the target variable transformed to its log with only the 5 Best Features from Chi-Squared did not perform very well, with an R2 of 0.06 \\\n",
    "$\\bullet$ \"As with all inferential statistics, the results are most reliable when the data are collected from randomly selected subjects, and when sample sizes are sufficiently large that they produce appropriate statistical power.\" (McHugh, 2013). In this dataset, the subjects were not selected randomly so this is most likely why the model performance was lower than expected. "
   ]
  },
  {
   "cell_type": "markdown",
   "id": "38b65de4",
   "metadata": {},
   "source": [
    "## Conclusion"
   ]
  },
  {
   "cell_type": "markdown",
   "id": "1da80255",
   "metadata": {},
   "source": [
    "$\\bullet$ The XGBoost Regressor model with the target variable transformed to its log and all features performed the best, with an R2 of 1.00\\\n",
    "$\\bullet$ This will be the model of choice to implement with the Product Team to predict the click-through rate of the email campaigns"
   ]
  },
  {
   "cell_type": "markdown",
   "id": "60895bcf",
   "metadata": {},
   "source": [
    "##### ASK\n",
    "1. Is the regression models set up correctly and are the model performance metrics sound? YES\n",
    "2. 'click_rate_log'is used in regression model because of skew - should it be? or should I use click_rate? YES use log\n",
    "3. What about the test set in the beginning? Do I need to use it and where? I split the train into X and Y but haven't done anything with the test dataframe yet\n",
    "###### loading train and test datasets\n",
    "train=pd.read_csv('train_CTR.csv',index_col='campaign_id')\n",
    "test=pd.read_csv('test_CTR.csv',index_col='campaign_id') <--- this one\n",
    "4. Can you get accuracy of a linear model? Or is it not possible because the target isn't binary?\n",
    "5. Can you make a confusion matrix, precision/recall/F1, and ROC/AUC for linear regression like you can with linear regression? Or is it not possible because the target isn't binary?"
   ]
  },
  {
   "cell_type": "code",
   "execution_count": null,
   "id": "d4923ede",
   "metadata": {},
   "outputs": [],
   "source": []
  },
  {
   "cell_type": "code",
   "execution_count": null,
   "id": "5d86b381",
   "metadata": {},
   "outputs": [],
   "source": [
    "## Backup Visualization"
   ]
  },
  {
   "cell_type": "code",
   "execution_count": 518,
   "id": "d6e84b29",
   "metadata": {},
   "outputs": [
    {
     "data": {
      "image/png": "[encoded data removed]",
      "text/plain": [
       "<Figure size 432x288 with 1 Axes>"
      ]
     },
     "metadata": {},
     "output_type": "display_data"
    }
   ],
   "source": [
    "# plot for residual error\n",
    "## setting plot style\n",
    "plt.style.use('fivethirtyeight')\n",
    "  \n",
    "## plotting residual errors in training data\n",
    "plt.scatter(reg.predict(X_train), reg.predict(X_train) - y_train,\n",
    "            color = \"green\", s = 10, label = 'Train data')\n",
    "  \n",
    "## plotting residual errors in test data\n",
    "plt.scatter(reg.predict(X_test), reg.predict(X_test) - y_test,\n",
    "            color = \"blue\", s = 10, label = 'Test data')\n",
    "  \n",
    "## plotting line for zero residual error\n",
    "plt.hlines(y = 0, xmin = -0.2, xmax = 0.5, linewidth = 2)\n",
    "  \n",
    "## plotting legend\n",
    "plt.legend(loc = 'upper right')\n",
    "  \n",
    "## plot title\n",
    "plt.title(\"Residual errors\")\n",
    "  \n",
    "## method call for showing the plot\n",
    "plt.show()"
   ]
  },
  {
   "cell_type": "markdown",
   "id": "2f283b07",
   "metadata": {},
   "source": [
    "### References\n",
    "$\\bullet$ Dhinakaran, A. (2022, December 9). Best practices in ML observability for click-through rate models. Medium. Retrieved December 20, 2022, from https://towardsdatascience.com/best-practices-in-ml-observability-for-click-through-rate-models-8a0c6755a49a \\\n",
    "$\\bullet$ Zach. (2020, April 24). What is a good R-squared value? Statology. Retrieved December 20, 2022, from https://www.statology.org/good-r-squared-value/ \\\n",
    "$\\bullet$ Gajawada, S. K. (2022, September 28). Chi-square test for feature selection in machine learning. Medium. Retrieved December 22, 2022, from https://towardsdatascience.com/chi-square-test-for-feature-selection-in-machine-learning-206b1f0b8223 \\\n",
    "$\\bullet$ McHugh, M. L. (2013). The chi-square test of Independence. Biochemia medica. Retrieved January 6, 2023, from https://www.ncbi.nlm.nih.gov/pmc/articles/PMC3900058/ "
   ]
  },
  {
   "cell_type": "code",
   "execution_count": null,
   "id": "e68bf67f",
   "metadata": {},
   "outputs": [],
   "source": []
  }
 ],
 "metadata": {
  "kernelspec": {
   "display_name": "Python 3 (ipykernel)",
   "language": "python",
   "name": "python3"
  },
  "language_info": {
   "codemirror_mode": {
    "name": "ipython",
    "version": 3
   },
   "file_extension": ".py",
   "mimetype": "text/x-python",
   "name": "python",
   "nbconvert_exporter": "python",
   "pygments_lexer": "ipython3",
   "version": "3.9.12"
  }
 },
 "nbformat": 4,
 "nbformat_minor": 5
}
